{
 "cells": [
  {
   "cell_type": "code",
   "execution_count": 4,
   "id": "6a30ecb5-abd0-481e-bcf1-c6cbc9d856f7",
   "metadata": {},
   "outputs": [],
   "source": [
    "import spectral_score\n",
    "import pandas as pd\n",
    "from sklearn.feature_selection import SelectKBest, f_classif\n",
    "from sklearn.ensemble import ExtraTreesClassifier"
   ]
  },
  {
   "cell_type": "code",
   "execution_count": 5,
   "id": "0fda24b6-93ee-4975-8424-37242514e5c1",
   "metadata": {},
   "outputs": [],
   "source": [
    "df = pd.read_csv('../data/raw/dataset.csv')"
   ]
  },
  {
   "cell_type": "code",
   "execution_count": 6,
   "id": "857f3cfc-4d87-4ef4-9d24-500a2671ab56",
   "metadata": {},
   "outputs": [],
   "source": [
    "df_sample =df.sample(frac=0.01)\n",
    "X = df_sample.drop(['TARGET'],axis=1)\n",
    "y = df_sample['TARGET']"
   ]
  },
  {
   "cell_type": "code",
   "execution_count": 7,
   "id": "dbc19ca0-79a0-4b1e-bf5a-ecea1a17d785",
   "metadata": {},
   "outputs": [
    {
     "data": {
      "text/plain": [
       "array([[1.30698000e+05, 2.00000000e+00, 3.10000000e+01, ...,\n",
       "        0.00000000e+00, 0.00000000e+00, 3.87779100e+05],\n",
       "       [8.75110000e+04, 2.00000000e+00, 6.30000000e+01, ...,\n",
       "        0.00000000e+00, 0.00000000e+00, 1.36771800e+04],\n",
       "       [6.29270000e+04, 2.00000000e+00, 9.00000000e+00, ...,\n",
       "        0.00000000e+00, 0.00000000e+00, 1.17310979e+05],\n",
       "       ...,\n",
       "       [7.66560000e+04, 2.00000000e+00, 2.40000000e+01, ...,\n",
       "        0.00000000e+00, 0.00000000e+00, 1.10120610e+05],\n",
       "       [1.78650000e+04, 2.00000000e+00, 2.20000000e+01, ...,\n",
       "        0.00000000e+00, 0.00000000e+00, 1.62345780e+05],\n",
       "       [4.17810000e+04, 2.00000000e+00, 2.30000000e+01, ...,\n",
       "        0.00000000e+00, 0.00000000e+00, 9.14985600e+04]])"
      ]
     },
     "execution_count": 7,
     "metadata": {},
     "output_type": "execute_result"
    }
   ],
   "source": [
    "X.values"
   ]
  },
  {
   "cell_type": "markdown",
   "id": "60a4250f-1784-4235-9a01-e990f225c3e7",
   "metadata": {},
   "source": [
    "## Spectral Score"
   ]
  },
  {
   "cell_type": "code",
   "execution_count": 8,
   "id": "7f5c2f3d-a231-488e-a4d5-68b9c3704652",
   "metadata": {},
   "outputs": [],
   "source": [
    "def spectral_ranking(df):\n",
    "    spectral_scores = spectral_score.spec(df.values) ## quanto maior o score melhor,default adota second feature ranking function (if style = -1 or 0, ranking features in descending order, the higher the score, the more important the feature is)\n",
    "    features_name = list(df.columns)\n",
    "    df_spectral_feature = pd.DataFrame(spectral_scores,features_name).reset_index(drop = False)\n",
    "    df_spectral_feature.columns = ['Features','spectral_scores']\n",
    "    df_spectral_feature = df_spectral_feature.sort_values('spectral_scores', ascending = False)\n",
    "    df_spectral_feature['spectral_ranking'] = df_spectral_feature['spectral_scores'].rank(ascending= False, method = 'min').astype(int)\n",
    "    return df_spectral_feature"
   ]
  },
  {
   "cell_type": "markdown",
   "id": "4685f266-9295-4633-9eef-4110b0d801d1",
   "metadata": {},
   "source": [
    "## Pearson Correlation"
   ]
  },
  {
   "cell_type": "code",
   "execution_count": 10,
   "id": "329544c6-2640-49f0-8922-b94878260aaf",
   "metadata": {},
   "outputs": [],
   "source": [
    "#Using Pearson Correlation\n",
    "def pearson_ranking(df_train): \n",
    "    \"\"\"df_train: features\"\"\"\n",
    "    cor = df_train.corr()\n",
    "    pearson_ranking = pd.DataFrame(abs(cor).sum() - 1).reset_index(drop=False)\n",
    "    pearson_ranking.columns = ['Features','Pearson_sum']\n",
    "    pearson_ranking = pearson_ranking.sort_values('Pearson_sum', ascending = True)\n",
    "    df_rank = pearson_ranking[pearson_ranking['Pearson_sum'] != -1].reset_index(drop = True)\n",
    "    df_rank['pearson_ranking'] = df_rank.index+1\n",
    "    pearson_ranking_df = pearson_ranking.merge(df_rank[['Features','pearson_ranking']],on = 'Features', how = 'left')\n",
    "    pearson_ranking_df = pearson_ranking_df.fillna(df_rank['pearson_ranking'].max()+1).sort_values('pearson_ranking').reset_index(drop= True)\n",
    "    pearson_ranking_df['pearson_ranking'] = pearson_ranking_df['pearson_ranking'].astype(int)\n",
    "    return pearson_ranking_df"
   ]
  },
  {
   "cell_type": "markdown",
   "id": "002707cb-3a44-46d5-8306-46beca728ad0",
   "metadata": {},
   "source": [
    "## Anova"
   ]
  },
  {
   "cell_type": "code",
   "execution_count": 12,
   "id": "a495727f-7b07-4f32-95d1-8e1fb2bb400b",
   "metadata": {},
   "outputs": [],
   "source": [
    "def anova_ranking(X,y):\n",
    "    selector = SelectKBest(score_func=f_classif, k='all').fit(X,y)  ### utiliza teste Anova F-score que varia de 0 a um \"grande numero\", quanto maior o score, menores as chances de a variavel intervir na target pelo acaso\n",
    "    x_new = selector.transform(X) \n",
    "    scores = selector.scores_\n",
    "    features = list(X.columns)\n",
    "    feature_score = list(scores)\n",
    "    df_feature_score = pd.DataFrame([features,feature_score]).T\n",
    "    df_feature_score.columns = ['Features','anova_score']\n",
    "    df_feature_score = df_feature_score.fillna(0)\n",
    "    df_feature_score = df_feature_score.sort_values('anova_score', ascending=False)\n",
    "    df_feature_score['anova_ranking'] = df_feature_score['anova_score'].rank(ascending= False, method = 'min').astype(int)\n",
    "    return df_feature_score"
   ]
  },
  {
   "cell_type": "markdown",
   "id": "d413da7f-af87-4d2a-8e91-8924ddc7cdf1",
   "metadata": {},
   "source": [
    "## Feature Importance"
   ]
  },
  {
   "cell_type": "code",
   "execution_count": 14,
   "id": "c97425f7-e5af-4430-b550-e241f181c9be",
   "metadata": {},
   "outputs": [],
   "source": [
    "# Feature Importance with Extra Trees Classifier\n",
    "def featureImportance_ranking(X,y):\n",
    "    model = ExtraTreesClassifier(n_estimators=10)\n",
    "    model.fit(X, y)\n",
    "    FI_df = pd.DataFrame(model.feature_importances_,list(X.columns), ).reset_index(drop=False)\n",
    "    FI_df.columns = ['Features','Importance']\n",
    "    FI_df = FI_df.sort_values('Importance',ascending = False)\n",
    "    FI_df['FI_ranking'] = FI_df['Importance'].rank(ascending= False, method = 'min').astype(int)\n",
    "    return FI_df"
   ]
  },
  {
   "cell_type": "markdown",
   "id": "d439927c-c3eb-4efd-9328-0f8b6ad58ef1",
   "metadata": {},
   "source": [
    "## Kurtosis Ranking"
   ]
  },
  {
   "cell_type": "code",
   "execution_count": 38,
   "id": "da192044-095a-46f6-8bbc-c857e8b85508",
   "metadata": {},
   "outputs": [],
   "source": [
    "## Calculating kurtosis for each feature\n",
    "def kurtosis_ranking(X, outlier_isbetter = True):\n",
    "    df_kurtosis = pd.DataFrame(X.kurt(axis=0)).reset_index(drop= False)\n",
    "    df_kurtosis.columns = ['Features','kurtosis']\n",
    "    if  not outlier_isbetter:\n",
    "        asc = True\n",
    "    else: asc = False\n",
    "    df_kurtosis['kurtosis_ranking'] = df_kurtosis['kurtosis'].rank(ascending= asc, method = 'min').astype(int)\n",
    "    df_kurtosis = df_kurtosis.sort_values('kurtosis_ranking')\n",
    "    return df_kurtosis"
   ]
  },
  {
   "cell_type": "code",
   "execution_count": 41,
   "id": "d8f30444-4fd3-4000-b936-76ae265e8b83",
   "metadata": {},
   "outputs": [],
   "source": [
    "spectral_rank = spectral_ranking(X)\n",
    "pearson_rank = pearson_ranking(X)\n",
    "anova_df = anova_ranking(X,y)\n",
    "FI_df = featureImportance_ranking(X,y)\n",
    "kurtosis_df = kurtosis_ranking(X, True)\n",
    "\n",
    "df1 = spectral_rank[['Features','spectral_ranking']]\n",
    "df2 =anova_df[['Features','anova_ranking']]\n",
    "df3 =pearson_rank[['Features','pearson_ranking']]\n",
    "df4 =FI_df[['Features','FI_ranking']]\n",
    "df5 = kurtosis_df[['Features','kurtosis_ranking']]\n",
    "\n",
    "df_ranks = df1.merge(df2, how='left', on=['Features']).merge(df3, how='left', on=['Features']).merge(df4, how='left', on =['Features']).merge(df5, how='left', on =['Features'])\n",
    "df_ranks['Borda_agg'] =  df_ranks.drop('Features', axis=1).sum(axis=1)\n",
    "df_ranks['reordered_ranks'] = df_ranks['Borda_agg'].rank(ascending= True, method = 'min').astype(int)\n",
    "df_ranks = df_ranks.sort_values('reordered_ranks')"
   ]
  },
  {
   "cell_type": "code",
   "execution_count": 46,
   "id": "dd9e164c-77a1-419b-a895-35c14a1f931a",
   "metadata": {},
   "outputs": [
    {
     "data": {
      "text/html": [
       "<div>\n",
       "<style scoped>\n",
       "    .dataframe tbody tr th:only-of-type {\n",
       "        vertical-align: middle;\n",
       "    }\n",
       "\n",
       "    .dataframe tbody tr th {\n",
       "        vertical-align: top;\n",
       "    }\n",
       "\n",
       "    .dataframe thead th {\n",
       "        text-align: right;\n",
       "    }\n",
       "</style>\n",
       "<table border=\"1\" class=\"dataframe\">\n",
       "  <thead>\n",
       "    <tr style=\"text-align: right;\">\n",
       "      <th></th>\n",
       "      <th>Features</th>\n",
       "      <th>spectral_ranking</th>\n",
       "      <th>anova_ranking</th>\n",
       "      <th>pearson_ranking</th>\n",
       "      <th>FI_ranking</th>\n",
       "      <th>kurtosis_ranking</th>\n",
       "      <th>Borda_agg</th>\n",
       "      <th>reordered_ranks</th>\n",
       "    </tr>\n",
       "  </thead>\n",
       "  <tbody>\n",
       "    <tr>\n",
       "      <th>369</th>\n",
       "      <td>var38</td>\n",
       "      <td>129</td>\n",
       "      <td>84</td>\n",
       "      <td>1</td>\n",
       "      <td>2</td>\n",
       "      <td>45</td>\n",
       "      <td>261</td>\n",
       "      <td>1</td>\n",
       "    </tr>\n",
       "    <tr>\n",
       "      <th>162</th>\n",
       "      <td>num_sal_var16_ult1</td>\n",
       "      <td>129</td>\n",
       "      <td>1</td>\n",
       "      <td>73</td>\n",
       "      <td>38</td>\n",
       "      <td>21</td>\n",
       "      <td>262</td>\n",
       "      <td>2</td>\n",
       "    </tr>\n",
       "    <tr>\n",
       "      <th>307</th>\n",
       "      <td>saldo_var5</td>\n",
       "      <td>129</td>\n",
       "      <td>36</td>\n",
       "      <td>38</td>\n",
       "      <td>36</td>\n",
       "      <td>79</td>\n",
       "      <td>318</td>\n",
       "      <td>3</td>\n",
       "    </tr>\n",
       "    <tr>\n",
       "      <th>267</th>\n",
       "      <td>imp_op_var40_efect_ult3</td>\n",
       "      <td>129</td>\n",
       "      <td>106</td>\n",
       "      <td>15</td>\n",
       "      <td>35</td>\n",
       "      <td>35</td>\n",
       "      <td>320</td>\n",
       "      <td>4</td>\n",
       "    </tr>\n",
       "    <tr>\n",
       "      <th>276</th>\n",
       "      <td>imp_sal_var16_ult1</td>\n",
       "      <td>129</td>\n",
       "      <td>2</td>\n",
       "      <td>72</td>\n",
       "      <td>140</td>\n",
       "      <td>17</td>\n",
       "      <td>360</td>\n",
       "      <td>5</td>\n",
       "    </tr>\n",
       "    <tr>\n",
       "      <th>...</th>\n",
       "      <td>...</td>\n",
       "      <td>...</td>\n",
       "      <td>...</td>\n",
       "      <td>...</td>\n",
       "      <td>...</td>\n",
       "      <td>...</td>\n",
       "      <td>...</td>\n",
       "      <td>...</td>\n",
       "    </tr>\n",
       "    <tr>\n",
       "      <th>83</th>\n",
       "      <td>delta_num_trasp_var33_in_1y3</td>\n",
       "      <td>1</td>\n",
       "      <td>243</td>\n",
       "      <td>243</td>\n",
       "      <td>140</td>\n",
       "      <td>236</td>\n",
       "      <td>863</td>\n",
       "      <td>242</td>\n",
       "    </tr>\n",
       "    <tr>\n",
       "      <th>82</th>\n",
       "      <td>num_meses_var33_ult3</td>\n",
       "      <td>1</td>\n",
       "      <td>243</td>\n",
       "      <td>243</td>\n",
       "      <td>140</td>\n",
       "      <td>236</td>\n",
       "      <td>863</td>\n",
       "      <td>242</td>\n",
       "    </tr>\n",
       "    <tr>\n",
       "      <th>88</th>\n",
       "      <td>saldo_medio_var13_medio_hace3</td>\n",
       "      <td>1</td>\n",
       "      <td>243</td>\n",
       "      <td>243</td>\n",
       "      <td>140</td>\n",
       "      <td>236</td>\n",
       "      <td>863</td>\n",
       "      <td>242</td>\n",
       "    </tr>\n",
       "    <tr>\n",
       "      <th>0</th>\n",
       "      <td>saldo_var32</td>\n",
       "      <td>1</td>\n",
       "      <td>243</td>\n",
       "      <td>243</td>\n",
       "      <td>140</td>\n",
       "      <td>236</td>\n",
       "      <td>863</td>\n",
       "      <td>242</td>\n",
       "    </tr>\n",
       "    <tr>\n",
       "      <th>233</th>\n",
       "      <td>ind_var25_cte</td>\n",
       "      <td>129</td>\n",
       "      <td>241</td>\n",
       "      <td>191</td>\n",
       "      <td>119</td>\n",
       "      <td>188</td>\n",
       "      <td>868</td>\n",
       "      <td>370</td>\n",
       "    </tr>\n",
       "  </tbody>\n",
       "</table>\n",
       "<p>370 rows × 8 columns</p>\n",
       "</div>"
      ],
      "text/plain": [
       "                          Features  spectral_ranking  anova_ranking  \\\n",
       "369                          var38               129             84   \n",
       "162             num_sal_var16_ult1               129              1   \n",
       "307                     saldo_var5               129             36   \n",
       "267        imp_op_var40_efect_ult3               129            106   \n",
       "276             imp_sal_var16_ult1               129              2   \n",
       "..                             ...               ...            ...   \n",
       "83    delta_num_trasp_var33_in_1y3                 1            243   \n",
       "82            num_meses_var33_ult3                 1            243   \n",
       "88   saldo_medio_var13_medio_hace3                 1            243   \n",
       "0                      saldo_var32                 1            243   \n",
       "233                  ind_var25_cte               129            241   \n",
       "\n",
       "     pearson_ranking  FI_ranking  kurtosis_ranking  Borda_agg  reordered_ranks  \n",
       "369                1           2                45        261                1  \n",
       "162               73          38                21        262                2  \n",
       "307               38          36                79        318                3  \n",
       "267               15          35                35        320                4  \n",
       "276               72         140                17        360                5  \n",
       "..               ...         ...               ...        ...              ...  \n",
       "83               243         140               236        863              242  \n",
       "82               243         140               236        863              242  \n",
       "88               243         140               236        863              242  \n",
       "0                243         140               236        863              242  \n",
       "233              191         119               188        868              370  \n",
       "\n",
       "[370 rows x 8 columns]"
      ]
     },
     "execution_count": 46,
     "metadata": {},
     "output_type": "execute_result"
    }
   ],
   "source": [
    "df_ranks"
   ]
  },
  {
   "cell_type": "code",
   "execution_count": null,
   "id": "4a0e0ffd-9c7f-4d27-b5c0-b45ecc01f500",
   "metadata": {},
   "outputs": [],
   "source": []
  }
 ],
 "metadata": {
  "kernelspec": {
   "display_name": "Python 3 (ipykernel)",
   "language": "python",
   "name": "python3"
  },
  "language_info": {
   "codemirror_mode": {
    "name": "ipython",
    "version": 3
   },
   "file_extension": ".py",
   "mimetype": "text/x-python",
   "name": "python",
   "nbconvert_exporter": "python",
   "pygments_lexer": "ipython3",
   "version": "3.8.10"
  }
 },
 "nbformat": 4,
 "nbformat_minor": 5
}
