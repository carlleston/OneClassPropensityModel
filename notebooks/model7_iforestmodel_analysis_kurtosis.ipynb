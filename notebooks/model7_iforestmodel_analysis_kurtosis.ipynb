{
 "cells": [
  {
   "cell_type": "markdown",
   "id": "aed16021-e21a-47de-a3a7-48419f87a021",
   "metadata": {},
   "source": [
    "## Model 7: IF +FS3 (kurtosis)"
   ]
  },
  {
   "cell_type": "code",
   "execution_count": 1,
   "id": "672d6f5f-78b5-4970-b14a-e0ddd19756e1",
   "metadata": {},
   "outputs": [],
   "source": [
    "import pandas as pd\n",
    "import numpy as np"
   ]
  },
  {
   "cell_type": "code",
   "execution_count": 2,
   "id": "31aa998e-4601-4308-a8b3-341850dcb945",
   "metadata": {},
   "outputs": [],
   "source": [
    "df = pd.read_csv('../models/iforest_df_test_ckurtosis.csv',sep=';', index_col=0)"
   ]
  },
  {
   "cell_type": "markdown",
   "id": "436d6288-49fb-4128-966f-81f70c454207",
   "metadata": {},
   "source": [
    "A score close to 1 indicates anomalies.  \n",
    "Score much smaller than 0.5 indicates normal observations.  \n",
    "If all scores are close to 0.5 then the entire sample does not seem to have clearly distinct anomalies.  "
   ]
  },
  {
   "cell_type": "markdown",
   "id": "2d287e6d-928d-468e-9b1f-65a6039f354c",
   "metadata": {},
   "source": [
    "prob_0\t= probabilidade de estar satisfeito  \n",
    "prob_1 = probabilidade de churn"
   ]
  },
  {
   "cell_type": "code",
   "execution_count": 3,
   "id": "ad45f63f-27ed-4022-98c7-6f34ed3c3a8a",
   "metadata": {},
   "outputs": [],
   "source": [
    "def ks(data=None,target=None, prob=None):\n",
    "    ## finding at: https://www.listendata.com/2019/07/KS-Statistics-Python.html\n",
    "    data['target0'] = 1 - data[target]\n",
    "    data['bucket']  = pd.qcut(data[prob].rank(method='first'), 5)\n",
    "    # data['bucket'] = pd.qcut(data[prob], 10)\n",
    "    grouped = data.groupby('bucket', as_index = False)\n",
    "    kstable = pd.DataFrame()\n",
    "    kstable['min_prob'] = grouped.min()[prob]\n",
    "    kstable['max_prob'] = grouped.max()[prob]\n",
    "    kstable['events']   = grouped.sum()[target]\n",
    "    kstable['nonevents'] = grouped.sum()['target0']\n",
    "    kstable = kstable.sort_values(by=\"min_prob\", ascending=False).reset_index(drop = True)\n",
    "    kstable['event_rate'] = (kstable.events / data[target].sum()).apply('{0:.2}'.format).astype(float) * 100\n",
    "    kstable['nonevent_rate'] = (kstable.nonevents / data['target0'].sum()).apply('{0:.2}'.format).astype(float) * 100\n",
    "    kstable['cum_eventrate']=(kstable.events / data[target].sum()).cumsum()\n",
    "    kstable['cum_noneventrate']=(kstable.nonevents / data['target0'].sum()).cumsum()\n",
    "    kstable['KS'] = np.round(kstable['cum_eventrate']-kstable['cum_noneventrate'], 3) * 100\n",
    "\n",
    "    #Formating\n",
    "    kstable['cum_eventrate']= kstable['cum_eventrate'].apply('{0:.2}'.format).astype(float) * 100\n",
    "    kstable['cum_noneventrate']= kstable['cum_noneventrate'].apply('{0:.2}'.format).astype(float) * 100\n",
    "    kstable.index = range(1,6)\n",
    "    kstable.index.rename('Decile', inplace=True)\n",
    "    pd.set_option('display.max_columns', 9)\n",
    "    # print(kstable)\n",
    "    \n",
    "    #Display KS\n",
    "    from colorama import Fore\n",
    "    print(Fore.RED + \"KS is \" + str(max(kstable['KS']))+\"%\"+ \" at decile \" + str((kstable.index[kstable['KS']==max(kstable['KS'])][0])))\n",
    "    return(kstable)"
   ]
  },
  {
   "cell_type": "code",
   "execution_count": 4,
   "id": "7960d4e1-e08b-407f-9de6-c56670d04de5",
   "metadata": {},
   "outputs": [
    {
     "data": {
      "text/plain": [
       "0.20256876144914338"
      ]
     },
     "execution_count": 4,
     "metadata": {},
     "output_type": "execute_result"
    }
   ],
   "source": [
    "from scipy.stats import ks_2samp\n",
    "yhat = df['iforest_kurt_score']\n",
    "y = df['TARGET']\n",
    "def ks_stat(y, yhat):\n",
    "    return ks_2samp(yhat[y==1], yhat[y!=1]).statistic\n",
    "ks_stat(y, yhat)"
   ]
  },
  {
   "cell_type": "code",
   "execution_count": 5,
   "id": "77151fa1-b070-4cd5-a6ba-4c69032d432c",
   "metadata": {
    "tags": []
   },
   "outputs": [
    {
     "name": "stdout",
     "output_type": "stream",
     "text": [
      "\u001b[31mKS is 18.6% at decile 1\n"
     ]
    },
    {
     "data": {
      "text/html": [
       "<div>\n",
       "<style scoped>\n",
       "    .dataframe tbody tr th:only-of-type {\n",
       "        vertical-align: middle;\n",
       "    }\n",
       "\n",
       "    .dataframe tbody tr th {\n",
       "        vertical-align: top;\n",
       "    }\n",
       "\n",
       "    .dataframe thead th {\n",
       "        text-align: right;\n",
       "    }\n",
       "</style>\n",
       "<table border=\"1\" class=\"dataframe\">\n",
       "  <thead>\n",
       "    <tr style=\"text-align: right;\">\n",
       "      <th></th>\n",
       "      <th>min_prob</th>\n",
       "      <th>max_prob</th>\n",
       "      <th>events</th>\n",
       "      <th>nonevents</th>\n",
       "      <th>event_rate</th>\n",
       "      <th>nonevent_rate</th>\n",
       "      <th>cum_eventrate</th>\n",
       "      <th>cum_noneventrate</th>\n",
       "      <th>KS</th>\n",
       "    </tr>\n",
       "    <tr>\n",
       "      <th>Decile</th>\n",
       "      <th></th>\n",
       "      <th></th>\n",
       "      <th></th>\n",
       "      <th></th>\n",
       "      <th></th>\n",
       "      <th></th>\n",
       "      <th></th>\n",
       "      <th></th>\n",
       "      <th></th>\n",
       "    </tr>\n",
       "  </thead>\n",
       "  <tbody>\n",
       "    <tr>\n",
       "      <th>1</th>\n",
       "      <td>-0.456500</td>\n",
       "      <td>-0.456500</td>\n",
       "      <td>230</td>\n",
       "      <td>2811</td>\n",
       "      <td>38.0</td>\n",
       "      <td>19.0</td>\n",
       "      <td>38.0</td>\n",
       "      <td>19.0</td>\n",
       "      <td>18.6</td>\n",
       "    </tr>\n",
       "    <tr>\n",
       "      <th>2</th>\n",
       "      <td>-0.456658</td>\n",
       "      <td>-0.456500</td>\n",
       "      <td>73</td>\n",
       "      <td>2968</td>\n",
       "      <td>12.0</td>\n",
       "      <td>20.0</td>\n",
       "      <td>50.0</td>\n",
       "      <td>40.0</td>\n",
       "      <td>10.3</td>\n",
       "    </tr>\n",
       "    <tr>\n",
       "      <th>3</th>\n",
       "      <td>-0.457297</td>\n",
       "      <td>-0.456658</td>\n",
       "      <td>135</td>\n",
       "      <td>2905</td>\n",
       "      <td>22.0</td>\n",
       "      <td>20.0</td>\n",
       "      <td>72.0</td>\n",
       "      <td>59.0</td>\n",
       "      <td>12.7</td>\n",
       "    </tr>\n",
       "    <tr>\n",
       "      <th>4</th>\n",
       "      <td>-0.459133</td>\n",
       "      <td>-0.457297</td>\n",
       "      <td>70</td>\n",
       "      <td>2971</td>\n",
       "      <td>12.0</td>\n",
       "      <td>20.0</td>\n",
       "      <td>84.0</td>\n",
       "      <td>80.0</td>\n",
       "      <td>3.8</td>\n",
       "    </tr>\n",
       "    <tr>\n",
       "      <th>5</th>\n",
       "      <td>-0.499749</td>\n",
       "      <td>-0.459133</td>\n",
       "      <td>99</td>\n",
       "      <td>2942</td>\n",
       "      <td>16.0</td>\n",
       "      <td>20.0</td>\n",
       "      <td>100.0</td>\n",
       "      <td>100.0</td>\n",
       "      <td>0.0</td>\n",
       "    </tr>\n",
       "  </tbody>\n",
       "</table>\n",
       "</div>"
      ],
      "text/plain": [
       "        min_prob  max_prob  events  nonevents  event_rate  nonevent_rate  \\\n",
       "Decile                                                                     \n",
       "1      -0.456500 -0.456500     230       2811        38.0           19.0   \n",
       "2      -0.456658 -0.456500      73       2968        12.0           20.0   \n",
       "3      -0.457297 -0.456658     135       2905        22.0           20.0   \n",
       "4      -0.459133 -0.457297      70       2971        12.0           20.0   \n",
       "5      -0.499749 -0.459133      99       2942        16.0           20.0   \n",
       "\n",
       "        cum_eventrate  cum_noneventrate    KS  \n",
       "Decile                                         \n",
       "1                38.0              19.0  18.6  \n",
       "2                50.0              40.0  10.3  \n",
       "3                72.0              59.0  12.7  \n",
       "4                84.0              80.0   3.8  \n",
       "5               100.0             100.0   0.0  "
      ]
     },
     "execution_count": 5,
     "metadata": {},
     "output_type": "execute_result"
    }
   ],
   "source": [
    "results_quintil = ks(df, target='TARGET', prob='iforest_kurt_score')\n",
    "results_quintil"
   ]
  },
  {
   "cell_type": "code",
   "execution_count": 6,
   "id": "e6494513-2b9d-4ebf-be54-b548457c94cb",
   "metadata": {},
   "outputs": [
    {
     "name": "stdout",
     "output_type": "stream",
     "text": [
      "Roc Auc:  0.6015788940856819\n",
      "Gini:  0.20315778817136376\n"
     ]
    }
   ],
   "source": [
    "from sklearn.metrics import roc_auc_score\n",
    "\n",
    "print(\"Roc Auc: \",roc_auc_score(df['TARGET'], df['iforest_kurt_score']))\n",
    "print(\"Gini: \",2*(roc_auc_score(df['TARGET'], df['iforest_kurt_score']))-1)"
   ]
  },
  {
   "cell_type": "code",
   "execution_count": 7,
   "id": "9ca94af6-80de-4ee4-a3db-b34354c82bc7",
   "metadata": {},
   "outputs": [
    {
     "name": "stdout",
     "output_type": "stream",
     "text": [
      "KS:  0.20256876144914338\n"
     ]
    }
   ],
   "source": [
    "from scipy.stats import ks_2samp\n",
    "yhat = df['iforest_kurt_score']\n",
    "y = df['TARGET']\n",
    "def ks_stat(y, yhat):\n",
    "    return ks_2samp(yhat[y==1], yhat[y!=1]).statistic\n",
    "print(\"KS: \",ks_stat(y, yhat))"
   ]
  },
  {
   "cell_type": "code",
   "execution_count": 8,
   "id": "08da1d67-a775-495c-bd4e-d6e803561722",
   "metadata": {},
   "outputs": [],
   "source": [
    "results_quintil.columns = ['min_prob','max_prob','Qtd de eventos (Target)','Qtd de não-eventos (Target)','% de eventos no Decil','% de não-eventos no Decil','% de evento acumulados','% de não-evento acumulados','KS']\n",
    "results_quintil.to_csv(\"results_model7_iforest_fskurtos.csv\",sep=';')"
   ]
  }
 ],
 "metadata": {
  "kernelspec": {
   "display_name": "Python 3 (ipykernel)",
   "language": "python",
   "name": "python3"
  },
  "language_info": {
   "codemirror_mode": {
    "name": "ipython",
    "version": 3
   },
   "file_extension": ".py",
   "mimetype": "text/x-python",
   "name": "python",
   "nbconvert_exporter": "python",
   "pygments_lexer": "ipython3",
   "version": "3.8.10"
  }
 },
 "nbformat": 4,
 "nbformat_minor": 5
}
