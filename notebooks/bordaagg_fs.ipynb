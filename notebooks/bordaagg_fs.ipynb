{
 "cells": [
  {
   "cell_type": "code",
   "execution_count": 1,
   "id": "7add2698-e4a6-4d4b-ad05-92cb84541e9f",
   "metadata": {},
   "outputs": [],
   "source": [
    "# -*- coding: utf-8 -*-\n",
    "import FS_borda as fsb\n",
    "import pandas as pd\n",
    "from sklearn.model_selection import train_test_split\n",
    "import data_proprec as dp"
   ]
  },
  {
   "cell_type": "code",
   "execution_count": 2,
   "id": "fe04e55e-fcb4-4be1-83a3-f62f4a6ae3ca",
   "metadata": {},
   "outputs": [
    {
     "name": "stdout",
     "output_type": "stream",
     "text": [
      "Number of zero var columns in dataset: 35\n"
     ]
    }
   ],
   "source": [
    "input_filepath = '../../data/raw/dataset.csv'\n",
    "output_filepath = '../../data/processed'\n",
    "\n",
    "# logger = logging.getLogger(__name__)\n",
    "# log_fmt = '%(asctime)s - %(name)s - %(levelname)s - %(message)s'\n",
    "# logging.basicConfig(level=logging.INFO, format=log_fmt)\n",
    "\n",
    "df = pd.read_csv(input_filepath)\n",
    "df_train, df_test = train_test_split(df, test_size=0.2, random_state=42)\n",
    "\n",
    "### Removing features with zero var\n",
    "zerovar_train = dp.zerovar_columns(df_train, 'TARGET')\n",
    "df_train = df_train.drop(zerovar_train,axis=1)\n",
    "\n",
    "\n",
    "X = df_train.drop(['TARGET','ID'],axis=1)\n",
    "y = df_train[['TARGET']]"
   ]
  },
  {
   "cell_type": "code",
   "execution_count": 3,
   "id": "3ba7e831-0fa4-49ac-a0c5-d0406b690707",
   "metadata": {},
   "outputs": [
    {
     "name": "stderr",
     "output_type": "stream",
     "text": [
      "/home/anthony/.local/lib/python3.8/site-packages/sklearn/utils/validation.py:985: DataConversionWarning: A column-vector y was passed when a 1d array was expected. Please change the shape of y to (n_samples, ), for example using ravel().\n",
      "  y = column_or_1d(y, warn=True)\n",
      "/home/anthony/Desktop/dev tcc/Dev_TCC/oneclass_propesion_repo/src/data/FS_borda.py:51: DataConversionWarning: A column-vector y was passed when a 1d array was expected. Please change the shape of y to (n_samples,), for example using ravel().\n",
      "  model.fit(X, y_values)\n"
     ]
    }
   ],
   "source": [
    "ranks = fsb.FS_borda_ranks(X,y,True)"
   ]
  },
  {
   "cell_type": "code",
   "execution_count": 6,
   "id": "47c9004b-2989-4e99-9e0c-3458954ab45b",
   "metadata": {},
   "outputs": [],
   "source": [
    "ranks.to_csv('../../data/processed/ranks_borda_agg.csv',sep=';')"
   ]
  },
  {
   "cell_type": "code",
   "execution_count": null,
   "id": "74c301d6-c959-4396-b208-c18f0261c4a6",
   "metadata": {},
   "outputs": [],
   "source": []
  }
 ],
 "metadata": {
  "kernelspec": {
   "display_name": "Python 3 (ipykernel)",
   "language": "python",
   "name": "python3"
  },
  "language_info": {
   "codemirror_mode": {
    "name": "ipython",
    "version": 3
   },
   "file_extension": ".py",
   "mimetype": "text/x-python",
   "name": "python",
   "nbconvert_exporter": "python",
   "pygments_lexer": "ipython3",
   "version": "3.8.10"
  }
 },
 "nbformat": 4,
 "nbformat_minor": 5
}
