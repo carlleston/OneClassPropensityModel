{
 "cells": [
  {
   "cell_type": "code",
   "execution_count": 1,
   "id": "afd80db0-3435-4165-b270-1c86f94a353e",
   "metadata": {},
   "outputs": [],
   "source": [
    "import matplotlib.pyplot as plt\n",
    "import pandas as pd"
   ]
  },
  {
   "cell_type": "code",
   "execution_count": 2,
   "id": "0a67716e-b215-46dd-a523-1b27b6e20d9a",
   "metadata": {},
   "outputs": [],
   "source": [
    "df_rfbase = pd.read_csv(\"results_rfbase.csv\",sep=';', index_col = 0)\n",
    "df_iforest = pd.read_csv(\"results_iforest.csv\",sep=';', index_col = 0)\n",
    "df_rfstackingif= pd.read_csv(\"results_rfstackingif.csv\",sep=';', index_col = 0)"
   ]
  },
  {
   "cell_type": "code",
   "execution_count": 3,
   "id": "98d3c38e-dd13-4403-95a6-62a7ea91d7b3",
   "metadata": {},
   "outputs": [
    {
     "data": {
      "text/html": [
       "<div>\n",
       "<style scoped>\n",
       "    .dataframe tbody tr th:only-of-type {\n",
       "        vertical-align: middle;\n",
       "    }\n",
       "\n",
       "    .dataframe tbody tr th {\n",
       "        vertical-align: top;\n",
       "    }\n",
       "\n",
       "    .dataframe thead th {\n",
       "        text-align: right;\n",
       "    }\n",
       "</style>\n",
       "<table border=\"1\" class=\"dataframe\">\n",
       "  <thead>\n",
       "    <tr style=\"text-align: right;\">\n",
       "      <th></th>\n",
       "      <th>min_prob</th>\n",
       "      <th>max_prob</th>\n",
       "      <th>Qtd de eventos (Target)</th>\n",
       "      <th>Qtd de não-eventos (Target)</th>\n",
       "      <th>% de eventos no Decil</th>\n",
       "      <th>% de não-eventos no Decil</th>\n",
       "      <th>% de evento acumulados</th>\n",
       "      <th>% de não-evento acumulados</th>\n",
       "      <th>KS</th>\n",
       "    </tr>\n",
       "    <tr>\n",
       "      <th>Decile</th>\n",
       "      <th></th>\n",
       "      <th></th>\n",
       "      <th></th>\n",
       "      <th></th>\n",
       "      <th></th>\n",
       "      <th></th>\n",
       "      <th></th>\n",
       "      <th></th>\n",
       "      <th></th>\n",
       "    </tr>\n",
       "  </thead>\n",
       "  <tbody>\n",
       "    <tr>\n",
       "      <th>1</th>\n",
       "      <td>0.312993</td>\n",
       "      <td>0.859385</td>\n",
       "      <td>370</td>\n",
       "      <td>2671</td>\n",
       "      <td>61.0</td>\n",
       "      <td>18.0</td>\n",
       "      <td>61.0</td>\n",
       "      <td>18.0</td>\n",
       "      <td>42.7</td>\n",
       "    </tr>\n",
       "    <tr>\n",
       "      <th>2</th>\n",
       "      <td>0.125651</td>\n",
       "      <td>0.312718</td>\n",
       "      <td>129</td>\n",
       "      <td>2910</td>\n",
       "      <td>21.0</td>\n",
       "      <td>20.0</td>\n",
       "      <td>82.0</td>\n",
       "      <td>38.0</td>\n",
       "      <td>44.0</td>\n",
       "    </tr>\n",
       "    <tr>\n",
       "      <th>3</th>\n",
       "      <td>0.070680</td>\n",
       "      <td>0.125633</td>\n",
       "      <td>70</td>\n",
       "      <td>2972</td>\n",
       "      <td>12.0</td>\n",
       "      <td>20.0</td>\n",
       "      <td>94.0</td>\n",
       "      <td>59.0</td>\n",
       "      <td>35.1</td>\n",
       "    </tr>\n",
       "    <tr>\n",
       "      <th>4</th>\n",
       "      <td>0.026147</td>\n",
       "      <td>0.070666</td>\n",
       "      <td>30</td>\n",
       "      <td>3011</td>\n",
       "      <td>4.9</td>\n",
       "      <td>21.0</td>\n",
       "      <td>99.0</td>\n",
       "      <td>79.0</td>\n",
       "      <td>19.5</td>\n",
       "    </tr>\n",
       "    <tr>\n",
       "      <th>5</th>\n",
       "      <td>0.000000</td>\n",
       "      <td>0.026141</td>\n",
       "      <td>8</td>\n",
       "      <td>3033</td>\n",
       "      <td>1.3</td>\n",
       "      <td>21.0</td>\n",
       "      <td>100.0</td>\n",
       "      <td>100.0</td>\n",
       "      <td>0.0</td>\n",
       "    </tr>\n",
       "  </tbody>\n",
       "</table>\n",
       "</div>"
      ],
      "text/plain": [
       "        min_prob  max_prob  Qtd de eventos (Target)  \\\n",
       "Decile                                                \n",
       "1       0.312993  0.859385                      370   \n",
       "2       0.125651  0.312718                      129   \n",
       "3       0.070680  0.125633                       70   \n",
       "4       0.026147  0.070666                       30   \n",
       "5       0.000000  0.026141                        8   \n",
       "\n",
       "        Qtd de não-eventos (Target)  % de eventos no Decil  \\\n",
       "Decile                                                       \n",
       "1                              2671                   61.0   \n",
       "2                              2910                   21.0   \n",
       "3                              2972                   12.0   \n",
       "4                              3011                    4.9   \n",
       "5                              3033                    1.3   \n",
       "\n",
       "        % de não-eventos no Decil  % de evento acumulados  \\\n",
       "Decile                                                      \n",
       "1                            18.0                    61.0   \n",
       "2                            20.0                    82.0   \n",
       "3                            20.0                    94.0   \n",
       "4                            21.0                    99.0   \n",
       "5                            21.0                   100.0   \n",
       "\n",
       "        % de não-evento acumulados    KS  \n",
       "Decile                                    \n",
       "1                             18.0  42.7  \n",
       "2                             38.0  44.0  \n",
       "3                             59.0  35.1  \n",
       "4                             79.0  19.5  \n",
       "5                            100.0   0.0  "
      ]
     },
     "execution_count": 3,
     "metadata": {},
     "output_type": "execute_result"
    }
   ],
   "source": [
    "df_rfbase"
   ]
  },
  {
   "cell_type": "code",
   "execution_count": 4,
   "id": "ce06c760-cff9-4ae6-824b-65d9789b3704",
   "metadata": {},
   "outputs": [
    {
     "data": {
      "text/html": [
       "<div>\n",
       "<style scoped>\n",
       "    .dataframe tbody tr th:only-of-type {\n",
       "        vertical-align: middle;\n",
       "    }\n",
       "\n",
       "    .dataframe tbody tr th {\n",
       "        vertical-align: top;\n",
       "    }\n",
       "\n",
       "    .dataframe thead th {\n",
       "        text-align: right;\n",
       "    }\n",
       "</style>\n",
       "<table border=\"1\" class=\"dataframe\">\n",
       "  <thead>\n",
       "    <tr style=\"text-align: right;\">\n",
       "      <th></th>\n",
       "      <th>min_prob</th>\n",
       "      <th>max_prob</th>\n",
       "      <th>Qtd de eventos (Target)</th>\n",
       "      <th>Qtd de não-eventos (Target)</th>\n",
       "      <th>% de eventos no Decil</th>\n",
       "      <th>% de não-eventos no Decil</th>\n",
       "      <th>% de evento acumulados</th>\n",
       "      <th>% de não-evento acumulados</th>\n",
       "      <th>KS</th>\n",
       "    </tr>\n",
       "    <tr>\n",
       "      <th>Decile</th>\n",
       "      <th></th>\n",
       "      <th></th>\n",
       "      <th></th>\n",
       "      <th></th>\n",
       "      <th></th>\n",
       "      <th></th>\n",
       "      <th></th>\n",
       "      <th></th>\n",
       "      <th></th>\n",
       "    </tr>\n",
       "  </thead>\n",
       "  <tbody>\n",
       "    <tr>\n",
       "      <th>1</th>\n",
       "      <td>0.994805</td>\n",
       "      <td>1.000000</td>\n",
       "      <td>185</td>\n",
       "      <td>2856</td>\n",
       "      <td>30.0</td>\n",
       "      <td>20.0</td>\n",
       "      <td>30.0</td>\n",
       "      <td>20.0</td>\n",
       "      <td>10.9</td>\n",
       "    </tr>\n",
       "    <tr>\n",
       "      <th>2</th>\n",
       "      <td>0.992371</td>\n",
       "      <td>0.994805</td>\n",
       "      <td>123</td>\n",
       "      <td>2918</td>\n",
       "      <td>20.0</td>\n",
       "      <td>20.0</td>\n",
       "      <td>51.0</td>\n",
       "      <td>40.0</td>\n",
       "      <td>11.2</td>\n",
       "    </tr>\n",
       "    <tr>\n",
       "      <th>3</th>\n",
       "      <td>0.989975</td>\n",
       "      <td>0.992355</td>\n",
       "      <td>135</td>\n",
       "      <td>2905</td>\n",
       "      <td>22.0</td>\n",
       "      <td>20.0</td>\n",
       "      <td>73.0</td>\n",
       "      <td>59.0</td>\n",
       "      <td>13.5</td>\n",
       "    </tr>\n",
       "    <tr>\n",
       "      <th>4</th>\n",
       "      <td>0.988670</td>\n",
       "      <td>0.989975</td>\n",
       "      <td>43</td>\n",
       "      <td>2998</td>\n",
       "      <td>7.1</td>\n",
       "      <td>21.0</td>\n",
       "      <td>80.0</td>\n",
       "      <td>80.0</td>\n",
       "      <td>0.1</td>\n",
       "    </tr>\n",
       "    <tr>\n",
       "      <th>5</th>\n",
       "      <td>0.698756</td>\n",
       "      <td>0.988670</td>\n",
       "      <td>121</td>\n",
       "      <td>2920</td>\n",
       "      <td>20.0</td>\n",
       "      <td>20.0</td>\n",
       "      <td>100.0</td>\n",
       "      <td>100.0</td>\n",
       "      <td>0.0</td>\n",
       "    </tr>\n",
       "  </tbody>\n",
       "</table>\n",
       "</div>"
      ],
      "text/plain": [
       "        min_prob  max_prob  Qtd de eventos (Target)  \\\n",
       "Decile                                                \n",
       "1       0.994805  1.000000                      185   \n",
       "2       0.992371  0.994805                      123   \n",
       "3       0.989975  0.992355                      135   \n",
       "4       0.988670  0.989975                       43   \n",
       "5       0.698756  0.988670                      121   \n",
       "\n",
       "        Qtd de não-eventos (Target)  % de eventos no Decil  \\\n",
       "Decile                                                       \n",
       "1                              2856                   30.0   \n",
       "2                              2918                   20.0   \n",
       "3                              2905                   22.0   \n",
       "4                              2998                    7.1   \n",
       "5                              2920                   20.0   \n",
       "\n",
       "        % de não-eventos no Decil  % de evento acumulados  \\\n",
       "Decile                                                      \n",
       "1                            20.0                    30.0   \n",
       "2                            20.0                    51.0   \n",
       "3                            20.0                    73.0   \n",
       "4                            21.0                    80.0   \n",
       "5                            20.0                   100.0   \n",
       "\n",
       "        % de não-evento acumulados    KS  \n",
       "Decile                                    \n",
       "1                             20.0  10.9  \n",
       "2                             40.0  11.2  \n",
       "3                             59.0  13.5  \n",
       "4                             80.0   0.1  \n",
       "5                            100.0   0.0  "
      ]
     },
     "execution_count": 4,
     "metadata": {},
     "output_type": "execute_result"
    }
   ],
   "source": [
    "df_iforest"
   ]
  },
  {
   "cell_type": "code",
   "execution_count": 5,
   "id": "707bf481-efa6-41f8-a7c1-22c2b42753f4",
   "metadata": {},
   "outputs": [
    {
     "data": {
      "text/html": [
       "<div>\n",
       "<style scoped>\n",
       "    .dataframe tbody tr th:only-of-type {\n",
       "        vertical-align: middle;\n",
       "    }\n",
       "\n",
       "    .dataframe tbody tr th {\n",
       "        vertical-align: top;\n",
       "    }\n",
       "\n",
       "    .dataframe thead th {\n",
       "        text-align: right;\n",
       "    }\n",
       "</style>\n",
       "<table border=\"1\" class=\"dataframe\">\n",
       "  <thead>\n",
       "    <tr style=\"text-align: right;\">\n",
       "      <th></th>\n",
       "      <th>min_prob</th>\n",
       "      <th>max_prob</th>\n",
       "      <th>Qtd de eventos (Target)</th>\n",
       "      <th>Qtd de não-eventos (Target)</th>\n",
       "      <th>% de eventos no Decil</th>\n",
       "      <th>% de não-eventos no Decil</th>\n",
       "      <th>% de evento acumulados</th>\n",
       "      <th>% de não-evento acumulados</th>\n",
       "      <th>KS</th>\n",
       "    </tr>\n",
       "    <tr>\n",
       "      <th>Decile</th>\n",
       "      <th></th>\n",
       "      <th></th>\n",
       "      <th></th>\n",
       "      <th></th>\n",
       "      <th></th>\n",
       "      <th></th>\n",
       "      <th></th>\n",
       "      <th></th>\n",
       "      <th></th>\n",
       "    </tr>\n",
       "  </thead>\n",
       "  <tbody>\n",
       "    <tr>\n",
       "      <th>1</th>\n",
       "      <td>0.148437</td>\n",
       "      <td>0.914777</td>\n",
       "      <td>383</td>\n",
       "      <td>2656</td>\n",
       "      <td>63.0</td>\n",
       "      <td>18.0</td>\n",
       "      <td>63.0</td>\n",
       "      <td>18.0</td>\n",
       "      <td>44.9</td>\n",
       "    </tr>\n",
       "    <tr>\n",
       "      <th>2</th>\n",
       "      <td>0.045120</td>\n",
       "      <td>0.148352</td>\n",
       "      <td>132</td>\n",
       "      <td>2911</td>\n",
       "      <td>22.0</td>\n",
       "      <td>20.0</td>\n",
       "      <td>85.0</td>\n",
       "      <td>38.0</td>\n",
       "      <td>46.7</td>\n",
       "    </tr>\n",
       "    <tr>\n",
       "      <th>3</th>\n",
       "      <td>0.015388</td>\n",
       "      <td>0.045107</td>\n",
       "      <td>56</td>\n",
       "      <td>2984</td>\n",
       "      <td>9.2</td>\n",
       "      <td>20.0</td>\n",
       "      <td>94.0</td>\n",
       "      <td>59.0</td>\n",
       "      <td>35.5</td>\n",
       "    </tr>\n",
       "    <tr>\n",
       "      <th>4</th>\n",
       "      <td>0.001799</td>\n",
       "      <td>0.015383</td>\n",
       "      <td>29</td>\n",
       "      <td>3012</td>\n",
       "      <td>4.8</td>\n",
       "      <td>21.0</td>\n",
       "      <td>99.0</td>\n",
       "      <td>79.0</td>\n",
       "      <td>19.6</td>\n",
       "    </tr>\n",
       "    <tr>\n",
       "      <th>5</th>\n",
       "      <td>0.000000</td>\n",
       "      <td>0.001797</td>\n",
       "      <td>7</td>\n",
       "      <td>3034</td>\n",
       "      <td>1.2</td>\n",
       "      <td>21.0</td>\n",
       "      <td>100.0</td>\n",
       "      <td>100.0</td>\n",
       "      <td>-0.0</td>\n",
       "    </tr>\n",
       "  </tbody>\n",
       "</table>\n",
       "</div>"
      ],
      "text/plain": [
       "        min_prob  max_prob  Qtd de eventos (Target)  \\\n",
       "Decile                                                \n",
       "1       0.148437  0.914777                      383   \n",
       "2       0.045120  0.148352                      132   \n",
       "3       0.015388  0.045107                       56   \n",
       "4       0.001799  0.015383                       29   \n",
       "5       0.000000  0.001797                        7   \n",
       "\n",
       "        Qtd de não-eventos (Target)  % de eventos no Decil  \\\n",
       "Decile                                                       \n",
       "1                              2656                   63.0   \n",
       "2                              2911                   22.0   \n",
       "3                              2984                    9.2   \n",
       "4                              3012                    4.8   \n",
       "5                              3034                    1.2   \n",
       "\n",
       "        % de não-eventos no Decil  % de evento acumulados  \\\n",
       "Decile                                                      \n",
       "1                            18.0                    63.0   \n",
       "2                            20.0                    85.0   \n",
       "3                            20.0                    94.0   \n",
       "4                            21.0                    99.0   \n",
       "5                            21.0                   100.0   \n",
       "\n",
       "        % de não-evento acumulados    KS  \n",
       "Decile                                    \n",
       "1                             18.0  44.9  \n",
       "2                             38.0  46.7  \n",
       "3                             59.0  35.5  \n",
       "4                             79.0  19.6  \n",
       "5                            100.0  -0.0  "
      ]
     },
     "execution_count": 5,
     "metadata": {},
     "output_type": "execute_result"
    }
   ],
   "source": [
    "df_rfstackingif"
   ]
  },
  {
   "cell_type": "code",
   "execution_count": 6,
   "id": "0ac3ae08-5189-485c-bf14-4bdede91b70d",
   "metadata": {},
   "outputs": [
    {
     "data": {
      "image/png": "[encoded data removed]",
      "text/plain": [
       "<Figure size 432x288 with 1 Axes>"
      ]
     },
     "metadata": {
      "needs_background": "light"
     },
     "output_type": "display_data"
    }
   ],
   "source": [
    "# plt.plot(np.cumsum(df_rfbase['% de eventos no Decil']), label='% de eventos')\n",
    "plt.plot(df_rfbase['KS'], label='KS')\n",
    "plt.plot(df_iforest['KS'], label='KS Iforest')\n",
    "plt.plot(df_rfstackingif['KS'], label='KS Stacking Iforest')\n",
    "\n",
    "\n",
    "plt.xlabel('Quintis')\n",
    "plt.ylabel('KS (%)')\n",
    "plt.title(\"Comparação dos modelos: KS por Quintil\")\n",
    "plt.xticks(range(1,6))\n",
    "plt.legend()\n",
    "plt.savefig('../reports/figures/compare_model_acc_events.png', bbox_inches='tight', dpi=plt.gcf().dpi)"
   ]
  },
  {
   "cell_type": "markdown",
   "id": "75eaf6ce-1cdb-495c-b3d2-4911976218eb",
   "metadata": {},
   "source": [
    "## Acc events"
   ]
  },
  {
   "cell_type": "code",
   "execution_count": 7,
   "id": "6f41776d-aa2e-4405-9be8-9cd7719765d5",
   "metadata": {},
   "outputs": [
    {
     "data": {
      "image/png": "[encoded data removed]",
      "text/plain": [
       "<Figure size 432x288 with 1 Axes>"
      ]
     },
     "metadata": {
      "needs_background": "light"
     },
     "output_type": "display_data"
    }
   ],
   "source": [
    "\n",
    "# plt.plot(np.cumsum(df_rfbase['% de eventos no Decil']), label='% de eventos')\n",
    "plt.plot(df_rfbase['% de evento acumulados'], label='Rf')\n",
    "plt.plot(df_iforest['% de evento acumulados'], label='Iforest')\n",
    "plt.plot(df_rfstackingif['% de evento acumulados'], label='RF Stacking Iforest')\n",
    "\n",
    "\n",
    "plt.xlabel('Quintis')\n",
    "plt.ylabel('% de Eventos Acumulados')\n",
    "plt.title(\"Comparação dos Modelos: Acumulos de Eventos por Quintil\")\n",
    "plt.xticks(range(1,6))\n",
    "plt.legend()\n",
    "plt.savefig('../reports/figures/compare_model_acc_events.png', bbox_inches='tight', dpi=plt.gcf().dpi)"
   ]
  },
  {
   "cell_type": "markdown",
   "id": "7bc705c2-c3a3-4b25-838b-8fd4b7cf2880",
   "metadata": {},
   "source": [
    "## Ordenação"
   ]
  },
  {
   "cell_type": "code",
   "execution_count": 8,
   "id": "9bd27191-0db9-4688-9c56-bec228e4c366",
   "metadata": {},
   "outputs": [
    {
     "data": {
      "image/png": "[encoded data removed]",
      "text/plain": [
       "<Figure size 432x288 with 1 Axes>"
      ]
     },
     "metadata": {
      "needs_background": "light"
     },
     "output_type": "display_data"
    }
   ],
   "source": [
    "import matplotlib.pyplot as plt\n",
    "fig = plt.figure()\n",
    "ax = fig.add_axes([0,0,1,1])\n",
    "quintis = df_rfbase.index\n",
    "events_num = df_rfbase['Qtd de eventos (Target)']\n",
    "ax.bar(quintis,events_num)\n",
    "\n",
    "plt.xlabel('Quintis')\n",
    "plt.ylabel('Qtd de Eventos por Quintil')\n",
    "plt.title(\"Ordenação do Modelo: Random Forest Baseline\")\n",
    "plt.savefig('../reports/figures/ordenation_rf_baseline.png', bbox_inches='tight', dpi=plt.gcf().dpi)\n",
    "plt.show()"
   ]
  },
  {
   "cell_type": "code",
   "execution_count": 9,
   "id": "171f02c4-1f75-4b44-b29e-a8f3b72846df",
   "metadata": {},
   "outputs": [
    {
     "data": {
      "image/png": "[encoded data removed]",
      "text/plain": [
       "<Figure size 432x288 with 1 Axes>"
      ]
     },
     "metadata": {
      "needs_background": "light"
     },
     "output_type": "display_data"
    }
   ],
   "source": [
    "import matplotlib.pyplot as plt\n",
    "fig = plt.figure()\n",
    "ax = fig.add_axes([0,0,1,1])\n",
    "quintis = df_iforest.index\n",
    "events_num = df_iforest['Qtd de eventos (Target)']\n",
    "ax.bar(quintis,events_num)\n",
    "\n",
    "plt.xlabel('Quintis')\n",
    "plt.ylabel('Qtd de Eventos por Quintil')\n",
    "plt.title(\"Ordenação do Modelo: Iforest\")\n",
    "plt.savefig('../reports/figures/ordenation_if.png', bbox_inches='tight', dpi=plt.gcf().dpi)\n",
    "plt.show()"
   ]
  },
  {
   "cell_type": "code",
   "execution_count": 10,
   "id": "473e139c-9967-46c6-8e15-222529c2be34",
   "metadata": {},
   "outputs": [
    {
     "data": {
      "image/png": "[encoded data removed]",
      "text/plain": [
       "<Figure size 432x288 with 1 Axes>"
      ]
     },
     "metadata": {
      "needs_background": "light"
     },
     "output_type": "display_data"
    }
   ],
   "source": [
    "import matplotlib.pyplot as plt\n",
    "fig = plt.figure()\n",
    "ax = fig.add_axes([0,0,1,1])\n",
    "quintis = df_rfstackingif.index\n",
    "events_num = df_rfstackingif['Qtd de eventos (Target)']\n",
    "ax.bar(quintis,events_num)\n",
    "\n",
    "plt.xlabel('Quintis')\n",
    "plt.ylabel('Qtd de Eventos por Quintil')\n",
    "plt.title(\"Ordenação do Modelo: Random Forest Stacking Iforest\")\n",
    "plt.savefig('../reports/figures/ordenation_rf_if.png', bbox_inches='tight', dpi=plt.gcf().dpi)\n",
    "plt.show()"
   ]
  },
  {
   "cell_type": "markdown",
   "id": "c66a81cc-4c5b-44f8-a8c8-f6cfef61af71",
   "metadata": {},
   "source": [
    "### ks x time"
   ]
  },
  {
   "cell_type": "code",
   "execution_count": 11,
   "id": "56992fbb-9996-4b5d-aff9-408f80fdec06",
   "metadata": {},
   "outputs": [],
   "source": [
    "ks_tim_df = pd.read_csv('ks_time.csv',sep = '.')\n",
    "ks_tim_df['KS'] = ks_tim_df['KS'] * 100"
   ]
  },
  {
   "cell_type": "code",
   "execution_count": 12,
   "id": "7b0973a3-d31b-47b2-bda3-861c8bc9f880",
   "metadata": {},
   "outputs": [
    {
     "data": {
      "text/html": [
       "<div>\n",
       "<style scoped>\n",
       "    .dataframe tbody tr th:only-of-type {\n",
       "        vertical-align: middle;\n",
       "    }\n",
       "\n",
       "    .dataframe tbody tr th {\n",
       "        vertical-align: top;\n",
       "    }\n",
       "\n",
       "    .dataframe thead th {\n",
       "        text-align: right;\n",
       "    }\n",
       "</style>\n",
       "<table border=\"1\" class=\"dataframe\">\n",
       "  <thead>\n",
       "    <tr style=\"text-align: right;\">\n",
       "      <th></th>\n",
       "      <th>Algoritmo</th>\n",
       "      <th>KS</th>\n",
       "      <th>time</th>\n",
       "    </tr>\n",
       "  </thead>\n",
       "  <tbody>\n",
       "    <tr>\n",
       "      <th>0</th>\n",
       "      <td>RF Baseline</td>\n",
       "      <td>45.88</td>\n",
       "      <td>5.8385</td>\n",
       "    </tr>\n",
       "    <tr>\n",
       "      <th>1</th>\n",
       "      <td>Iforest</td>\n",
       "      <td>21.78</td>\n",
       "      <td>21.6000</td>\n",
       "    </tr>\n",
       "    <tr>\n",
       "      <th>2</th>\n",
       "      <td>RF Stacking IF</td>\n",
       "      <td>48.30</td>\n",
       "      <td>4.4460</td>\n",
       "    </tr>\n",
       "  </tbody>\n",
       "</table>\n",
       "</div>"
      ],
      "text/plain": [
       "        Algoritmo     KS     time\n",
       "0     RF Baseline  45.88   5.8385\n",
       "1         Iforest  21.78  21.6000\n",
       "2  RF Stacking IF  48.30   4.4460"
      ]
     },
     "execution_count": 12,
     "metadata": {},
     "output_type": "execute_result"
    }
   ],
   "source": [
    "ks_tim_df"
   ]
  },
  {
   "cell_type": "code",
   "execution_count": 1,
   "id": "33311f3a-bb8c-4eae-ab58-4e5d8b23fbb4",
   "metadata": {},
   "outputs": [
    {
     "data": {
      "text/plain": [
       "-2.4199999999999946"
      ]
     },
     "execution_count": 1,
     "metadata": {},
     "output_type": "execute_result"
    }
   ],
   "source": [
    "45.88 - 48.3"
   ]
  },
  {
   "cell_type": "code",
   "execution_count": 13,
   "id": "e63c20c7-fec0-4de5-819d-17b5ee3a4669",
   "metadata": {},
   "outputs": [
    {
     "data": {
      "image/png": "[encoded data removed]",
      "text/plain": [
       "<Figure size 720x504 with 2 Axes>"
      ]
     },
     "metadata": {
      "needs_background": "light"
     },
     "output_type": "display_data"
    },
    {
     "data": {
      "text/plain": [
       "<Figure size 720x504 with 0 Axes>"
      ]
     },
     "metadata": {},
     "output_type": "display_data"
    }
   ],
   "source": [
    "import numpy as np\n",
    "import matplotlib.pyplot as plt\n",
    "plt.rcParams[\"figure.figsize\"] = [10,7]\n",
    "\n",
    "\n",
    "fig, ax1 = plt.subplots()\n",
    "color = 'tab:blue'\n",
    "ax1.set_xlabel('Algoritmos')\n",
    "ax1.set_ylabel('Horas de otimização (h)', color=color)\n",
    "ks_tim_df['time'].plot(kind='bar')\n",
    "ax1.tick_params(axis='y', labelcolor=color)\n",
    "\n",
    "ax2 = ax1.twinx()  # instantiate a second axes that shares the same x-axis\n",
    "\n",
    "\n",
    "plt.title(\"Comparação dos Modelos: KS-stats x Tempo de Processamento\")\n",
    "ax2.set_ylabel('KS-statistic (%)')  # we already handled the x-label with ax1\n",
    "ks_tim_df['KS'].plot(kind='line', marker='*', color='black')\n",
    "ax2.tick_params(axis='y')\n",
    "plt.ylim([0, 100])\n",
    "fig.tight_layout()  # otherwise the right y-label is slightly clipped\n",
    "plt.xticks([0, 1, 2], ks_tim_df['Algoritmo'])\n",
    "plt.tight_layout()\n",
    "# fig.savefig('coco_200dpi.png', dpi=200)\n",
    "xlocs, xlabs = plt.xticks()\n",
    "for i, v in enumerate(ks_tim_df['time'].values):\n",
    "    plt.text(xlocs[i] ,5, str(round(v,2)))\n",
    "plt.show()\n",
    "\n",
    "fig.savefig('../reports/figures/comp_model_ks_time.png', dpi=plt.gcf().dpi)\n"
   ]
  }
 ],
 "metadata": {
  "kernelspec": {
   "display_name": "Python 3 (ipykernel)",
   "language": "python",
   "name": "python3"
  },
  "language_info": {
   "codemirror_mode": {
    "name": "ipython",
    "version": 3
   },
   "file_extension": ".py",
   "mimetype": "text/x-python",
   "name": "python",
   "nbconvert_exporter": "python",
   "pygments_lexer": "ipython3",
   "version": "3.8.10"
  }
 },
 "nbformat": 4,
 "nbformat_minor": 5
}
