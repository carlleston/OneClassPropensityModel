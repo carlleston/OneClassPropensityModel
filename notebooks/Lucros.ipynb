{
 "cells": [
  {
   "cell_type": "code",
   "execution_count": 1,
   "id": "484ca7e2-e002-4de0-aa45-ffad23849897",
   "metadata": {},
   "outputs": [],
   "source": [
    "import pandas as pd"
   ]
  },
  {
   "cell_type": "code",
   "execution_count": 2,
   "id": "a7c69ecc-41fa-4311-b217-176cb3c2924c",
   "metadata": {},
   "outputs": [],
   "source": [
    "df = pd.read_csv('abordagem_modelo.csv', sep=';')"
   ]
  },
  {
   "cell_type": "code",
   "execution_count": 6,
   "id": "5e59e503-c52a-493d-8fac-e4068df88da1",
   "metadata": {},
   "outputs": [],
   "source": [
    "df['lucro'] = 90*df['Qtd evento']-10*df['Qtd não-evento']"
   ]
  },
  {
   "cell_type": "code",
   "execution_count": 7,
   "id": "cbd66ffc-7cb8-412a-be58-6e18835a5d92",
   "metadata": {},
   "outputs": [
    {
     "data": {
      "text/html": [
       "<div>\n",
       "<style scoped>\n",
       "    .dataframe tbody tr th:only-of-type {\n",
       "        vertical-align: middle;\n",
       "    }\n",
       "\n",
       "    .dataframe tbody tr th {\n",
       "        vertical-align: top;\n",
       "    }\n",
       "\n",
       "    .dataframe thead th {\n",
       "        text-align: right;\n",
       "    }\n",
       "</style>\n",
       "<table border=\"1\" class=\"dataframe\">\n",
       "  <thead>\n",
       "    <tr style=\"text-align: right;\">\n",
       "      <th></th>\n",
       "      <th>Modelo</th>\n",
       "      <th>Qtd não-evento</th>\n",
       "      <th>Qtd evento</th>\n",
       "      <th>lucro</th>\n",
       "    </tr>\n",
       "  </thead>\n",
       "  <tbody>\n",
       "    <tr>\n",
       "      <th>0</th>\n",
       "      <td>Modelo 1</td>\n",
       "      <td>5581</td>\n",
       "      <td>499</td>\n",
       "      <td>-10900</td>\n",
       "    </tr>\n",
       "    <tr>\n",
       "      <th>1</th>\n",
       "      <td>Modelo 2</td>\n",
       "      <td>5578</td>\n",
       "      <td>504</td>\n",
       "      <td>-10420</td>\n",
       "    </tr>\n",
       "    <tr>\n",
       "      <th>2</th>\n",
       "      <td>Modelo 3</td>\n",
       "      <td>5588</td>\n",
       "      <td>494</td>\n",
       "      <td>-11420</td>\n",
       "    </tr>\n",
       "    <tr>\n",
       "      <th>3</th>\n",
       "      <td>Modelo 4</td>\n",
       "      <td>5583</td>\n",
       "      <td>499</td>\n",
       "      <td>-10920</td>\n",
       "    </tr>\n",
       "    <tr>\n",
       "      <th>4</th>\n",
       "      <td>Modelo 5</td>\n",
       "      <td>5773</td>\n",
       "      <td>309</td>\n",
       "      <td>-29920</td>\n",
       "    </tr>\n",
       "    <tr>\n",
       "      <th>5</th>\n",
       "      <td>Modelo 6</td>\n",
       "      <td>5765</td>\n",
       "      <td>317</td>\n",
       "      <td>-29120</td>\n",
       "    </tr>\n",
       "    <tr>\n",
       "      <th>6</th>\n",
       "      <td>Modelo 7</td>\n",
       "      <td>5779</td>\n",
       "      <td>303</td>\n",
       "      <td>-30520</td>\n",
       "    </tr>\n",
       "    <tr>\n",
       "      <th>7</th>\n",
       "      <td>Modelo 8</td>\n",
       "      <td>5701</td>\n",
       "      <td>381</td>\n",
       "      <td>-22720</td>\n",
       "    </tr>\n",
       "    <tr>\n",
       "      <th>8</th>\n",
       "      <td>Modelo 9</td>\n",
       "      <td>5629</td>\n",
       "      <td>453</td>\n",
       "      <td>-15520</td>\n",
       "    </tr>\n",
       "    <tr>\n",
       "      <th>9</th>\n",
       "      <td>Modelo 10</td>\n",
       "      <td>5629</td>\n",
       "      <td>433</td>\n",
       "      <td>-17320</td>\n",
       "    </tr>\n",
       "  </tbody>\n",
       "</table>\n",
       "</div>"
      ],
      "text/plain": [
       "      Modelo  Qtd não-evento  Qtd evento  lucro\n",
       "0   Modelo 1            5581         499 -10900\n",
       "1   Modelo 2            5578         504 -10420\n",
       "2   Modelo 3            5588         494 -11420\n",
       "3   Modelo 4            5583         499 -10920\n",
       "4   Modelo 5            5773         309 -29920\n",
       "5   Modelo 6            5765         317 -29120\n",
       "6   Modelo 7            5779         303 -30520\n",
       "7   Modelo 8            5701         381 -22720\n",
       "8   Modelo 9            5629         453 -15520\n",
       "9  Modelo 10            5629         433 -17320"
      ]
     },
     "execution_count": 7,
     "metadata": {},
     "output_type": "execute_result"
    }
   ],
   "source": [
    "df"
   ]
  },
  {
   "cell_type": "code",
   "execution_count": 26,
   "id": "7ccefe26-c68c-4ed1-8957-b732e85467ff",
   "metadata": {},
   "outputs": [
    {
     "data": {
      "image/png": "[encoded data removed]",
      "text/plain": [
       "<Figure size 432x288 with 1 Axes>"
      ]
     },
     "metadata": {
      "needs_background": "light"
     },
     "output_type": "display_data"
    }
   ],
   "source": [
    "import matplotlib.pyplot as plt\n",
    "fig = plt.figure()\n",
    "ax = fig.add_axes([0,0,1,1])\n",
    "modelos = df.Modelo\n",
    "events_num = df['lucro']\n",
    "ax.bar(modelos,events_num, color = 'tomato')\n",
    "\n",
    "plt.xlabel('Modelos')\n",
    "plt.ylabel('R$')\n",
    "plt.title(\"Lucro por modelo: Abordagem segundo quintil\")\n",
    "\n",
    "# Make some labels.\n",
    "labels = events_num.values\n",
    "rects = ax.patches\n",
    "for rect, label in zip(rects, labels):\n",
    "    height = rect.get_height()\n",
    "    ax.text(\n",
    "        rect.get_x() + rect.get_width() / 2, height - 2.5, label, ha=\"center\", va=\"bottom\"\n",
    "    )\n",
    "plt.xticks(rotation=-45)\n",
    "\n",
    "plt.savefig('../reports/figures/lucro_abor_2q.png', bbox_inches='tight', dpi=plt.gcf().dpi)\n",
    "plt.show()"
   ]
  },
  {
   "cell_type": "code",
   "execution_count": 27,
   "id": "01699545-2995-46f8-9ce4-3118ce939b6e",
   "metadata": {},
   "outputs": [],
   "source": [
    "## 1Q"
   ]
  },
  {
   "cell_type": "code",
   "execution_count": 28,
   "id": "46437b03-178d-4177-bb7a-cd2ab3d8728a",
   "metadata": {},
   "outputs": [
    {
     "data": {
      "text/html": [
       "<div>\n",
       "<style scoped>\n",
       "    .dataframe tbody tr th:only-of-type {\n",
       "        vertical-align: middle;\n",
       "    }\n",
       "\n",
       "    .dataframe tbody tr th {\n",
       "        vertical-align: top;\n",
       "    }\n",
       "\n",
       "    .dataframe thead th {\n",
       "        text-align: right;\n",
       "    }\n",
       "</style>\n",
       "<table border=\"1\" class=\"dataframe\">\n",
       "  <thead>\n",
       "    <tr style=\"text-align: right;\">\n",
       "      <th></th>\n",
       "      <th>Modelo</th>\n",
       "      <th>Qtd não-evento</th>\n",
       "      <th>Qtd evento</th>\n",
       "      <th>lucro</th>\n",
       "    </tr>\n",
       "  </thead>\n",
       "  <tbody>\n",
       "    <tr>\n",
       "      <th>0</th>\n",
       "      <td>Modelo 1</td>\n",
       "      <td>2671</td>\n",
       "      <td>370</td>\n",
       "      <td>6590</td>\n",
       "    </tr>\n",
       "    <tr>\n",
       "      <th>1</th>\n",
       "      <td>Modelo 2</td>\n",
       "      <td>2656</td>\n",
       "      <td>385</td>\n",
       "      <td>8090</td>\n",
       "    </tr>\n",
       "    <tr>\n",
       "      <th>2</th>\n",
       "      <td>Modelo 3</td>\n",
       "      <td>2628</td>\n",
       "      <td>400</td>\n",
       "      <td>9720</td>\n",
       "    </tr>\n",
       "    <tr>\n",
       "      <th>3</th>\n",
       "      <td>Modelo 4</td>\n",
       "      <td>2549</td>\n",
       "      <td>397</td>\n",
       "      <td>10240</td>\n",
       "    </tr>\n",
       "    <tr>\n",
       "      <th>4</th>\n",
       "      <td>Modelo 5</td>\n",
       "      <td>2915</td>\n",
       "      <td>126</td>\n",
       "      <td>-17810</td>\n",
       "    </tr>\n",
       "    <tr>\n",
       "      <th>5</th>\n",
       "      <td>Modelo 6</td>\n",
       "      <td>2920</td>\n",
       "      <td>121</td>\n",
       "      <td>-18310</td>\n",
       "    </tr>\n",
       "    <tr>\n",
       "      <th>6</th>\n",
       "      <td>Modelo 7</td>\n",
       "      <td>2811</td>\n",
       "      <td>230</td>\n",
       "      <td>-7410</td>\n",
       "    </tr>\n",
       "    <tr>\n",
       "      <th>7</th>\n",
       "      <td>Modelo 8</td>\n",
       "      <td>2871</td>\n",
       "      <td>170</td>\n",
       "      <td>-13410</td>\n",
       "    </tr>\n",
       "    <tr>\n",
       "      <th>8</th>\n",
       "      <td>Modelo 9</td>\n",
       "      <td>2678</td>\n",
       "      <td>363</td>\n",
       "      <td>5890</td>\n",
       "    </tr>\n",
       "    <tr>\n",
       "      <th>9</th>\n",
       "      <td>Modelo 10</td>\n",
       "      <td>2726</td>\n",
       "      <td>315</td>\n",
       "      <td>1090</td>\n",
       "    </tr>\n",
       "  </tbody>\n",
       "</table>\n",
       "</div>"
      ],
      "text/plain": [
       "      Modelo  Qtd não-evento  Qtd evento  lucro\n",
       "0   Modelo 1            2671         370   6590\n",
       "1   Modelo 2            2656         385   8090\n",
       "2   Modelo 3            2628         400   9720\n",
       "3   Modelo 4            2549         397  10240\n",
       "4   Modelo 5            2915         126 -17810\n",
       "5   Modelo 6            2920         121 -18310\n",
       "6   Modelo 7            2811         230  -7410\n",
       "7   Modelo 8            2871         170 -13410\n",
       "8   Modelo 9            2678         363   5890\n",
       "9  Modelo 10            2726         315   1090"
      ]
     },
     "execution_count": 28,
     "metadata": {},
     "output_type": "execute_result"
    }
   ],
   "source": [
    "df2 = pd.read_csv('abordagem_modelo_q1.csv', sep=';')\n",
    "df2['lucro'] = 90*df2['Qtd evento']-10*df2['Qtd não-evento']\n",
    "df2"
   ]
  },
  {
   "cell_type": "code",
   "execution_count": 30,
   "id": "0aa646a7-20b7-458c-b64c-843fe668b9bf",
   "metadata": {},
   "outputs": [
    {
     "data": {
      "image/png": "[encoded data removed]",
      "text/plain": [
       "<Figure size 432x288 with 1 Axes>"
      ]
     },
     "metadata": {
      "needs_background": "light"
     },
     "output_type": "display_data"
    }
   ],
   "source": [
    "import matplotlib.pyplot as plt\n",
    "fig = plt.figure()\n",
    "ax = fig.add_axes([0,0,1,1])\n",
    "modelos = df2.Modelo\n",
    "events_num = df2['lucro']\n",
    "ax.bar(modelos,events_num, color = ['royalblue','royalblue','royalblue','royalblue','tomato','tomato'\n",
    "                                   ,'tomato','tomato','royalblue','royalblue'])\n",
    "\n",
    "plt.xlabel('Modelos')\n",
    "plt.ylabel('R$')\n",
    "plt.title(\"Lucro por modelo: Abordagem primeiro quintil\")\n",
    "\n",
    "# Make some labels.\n",
    "labels = events_num.values\n",
    "rects = ax.patches\n",
    "for rect, label in zip(rects, labels):\n",
    "    height = rect.get_height()\n",
    "    ax.text(\n",
    "        rect.get_x() + rect.get_width() / 2, height - 2.5, label, ha=\"center\", va=\"bottom\"\n",
    "    )\n",
    "plt.xticks(rotation=-45)\n",
    "\n",
    "plt.savefig('../reports/figures/lucro_abor_1q.png', bbox_inches='tight', dpi=plt.gcf().dpi)\n",
    "plt.show()"
   ]
  },
  {
   "cell_type": "code",
   "execution_count": null,
   "id": "00ca02e0-5224-4d8e-a1e1-d8b25dce6f2a",
   "metadata": {},
   "outputs": [],
   "source": []
  }
 ],
 "metadata": {
  "kernelspec": {
   "display_name": "Python 3 (ipykernel)",
   "language": "python",
   "name": "python3"
  },
  "language_info": {
   "codemirror_mode": {
    "name": "ipython",
    "version": 3
   },
   "file_extension": ".py",
   "mimetype": "text/x-python",
   "name": "python",
   "nbconvert_exporter": "python",
   "pygments_lexer": "ipython3",
   "version": "3.8.10"
  }
 },
 "nbformat": 4,
 "nbformat_minor": 5
}
