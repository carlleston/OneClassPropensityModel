{
 "cells": [
  {
   "cell_type": "markdown",
   "id": "0a40c91d-63c3-4174-869a-9412f67a88db",
   "metadata": {},
   "source": [
    "## model 4: rf+ifscore(fs4)+fs4"
   ]
  },
  {
   "cell_type": "code",
   "execution_count": 14,
   "id": "5f138f63-a2d5-4276-92e4-90a6b14873fe",
   "metadata": {},
   "outputs": [],
   "source": [
    "import pandas as pd\n",
    "import numpy as np"
   ]
  },
  {
   "cell_type": "code",
   "execution_count": 15,
   "id": "31aa998e-4601-4308-a8b3-341850dcb945",
   "metadata": {},
   "outputs": [],
   "source": [
    "df = pd.read_csv('../models/rf_df_test_fsborda_ifscore_pred.csv',sep=';', index_col=0)"
   ]
  },
  {
   "cell_type": "code",
   "execution_count": 16,
   "id": "486695cc-4a2e-4629-88aa-2619c64b841c",
   "metadata": {},
   "outputs": [
    {
     "data": {
      "text/html": [
       "<div>\n",
       "<style scoped>\n",
       "    .dataframe tbody tr th:only-of-type {\n",
       "        vertical-align: middle;\n",
       "    }\n",
       "\n",
       "    .dataframe tbody tr th {\n",
       "        vertical-align: top;\n",
       "    }\n",
       "\n",
       "    .dataframe thead th {\n",
       "        text-align: right;\n",
       "    }\n",
       "</style>\n",
       "<table border=\"1\" class=\"dataframe\">\n",
       "  <thead>\n",
       "    <tr style=\"text-align: right;\">\n",
       "      <th></th>\n",
       "      <th>var38</th>\n",
       "      <th>saldo_var5</th>\n",
       "      <th>var3</th>\n",
       "      <th>saldo_medio_var5_hace3</th>\n",
       "      <th>...</th>\n",
       "      <th>TARGET</th>\n",
       "      <th>iforest_fsborda_score</th>\n",
       "      <th>prob_0</th>\n",
       "      <th>prob_1</th>\n",
       "    </tr>\n",
       "  </thead>\n",
       "  <tbody>\n",
       "    <tr>\n",
       "      <th>50595</th>\n",
       "      <td>77930.250000</td>\n",
       "      <td>781.47</td>\n",
       "      <td>2</td>\n",
       "      <td>42.03</td>\n",
       "      <td>...</td>\n",
       "      <td>0</td>\n",
       "      <td>0.298228</td>\n",
       "      <td>0.901753</td>\n",
       "      <td>0.098247</td>\n",
       "    </tr>\n",
       "    <tr>\n",
       "      <th>5252</th>\n",
       "      <td>165125.040000</td>\n",
       "      <td>3.00</td>\n",
       "      <td>2</td>\n",
       "      <td>54195.09</td>\n",
       "      <td>...</td>\n",
       "      <td>0</td>\n",
       "      <td>0.302488</td>\n",
       "      <td>0.911249</td>\n",
       "      <td>0.088751</td>\n",
       "    </tr>\n",
       "    <tr>\n",
       "      <th>21956</th>\n",
       "      <td>82636.440000</td>\n",
       "      <td>60.00</td>\n",
       "      <td>2</td>\n",
       "      <td>45.51</td>\n",
       "      <td>...</td>\n",
       "      <td>0</td>\n",
       "      <td>0.294744</td>\n",
       "      <td>0.923321</td>\n",
       "      <td>0.076679</td>\n",
       "    </tr>\n",
       "    <tr>\n",
       "      <th>42714</th>\n",
       "      <td>67460.550000</td>\n",
       "      <td>293.70</td>\n",
       "      <td>2</td>\n",
       "      <td>772.29</td>\n",
       "      <td>...</td>\n",
       "      <td>0</td>\n",
       "      <td>0.299054</td>\n",
       "      <td>0.734853</td>\n",
       "      <td>0.265147</td>\n",
       "    </tr>\n",
       "    <tr>\n",
       "      <th>18494</th>\n",
       "      <td>117310.979016</td>\n",
       "      <td>3.00</td>\n",
       "      <td>2</td>\n",
       "      <td>1.86</td>\n",
       "      <td>...</td>\n",
       "      <td>0</td>\n",
       "      <td>0.294787</td>\n",
       "      <td>0.917923</td>\n",
       "      <td>0.082077</td>\n",
       "    </tr>\n",
       "  </tbody>\n",
       "</table>\n",
       "<p>5 rows × 54 columns</p>\n",
       "</div>"
      ],
      "text/plain": [
       "               var38  saldo_var5  var3  saldo_medio_var5_hace3  ...  TARGET  \\\n",
       "50595   77930.250000      781.47     2                   42.03  ...       0   \n",
       "5252   165125.040000        3.00     2                54195.09  ...       0   \n",
       "21956   82636.440000       60.00     2                   45.51  ...       0   \n",
       "42714   67460.550000      293.70     2                  772.29  ...       0   \n",
       "18494  117310.979016        3.00     2                    1.86  ...       0   \n",
       "\n",
       "       iforest_fsborda_score    prob_0    prob_1  \n",
       "50595               0.298228  0.901753  0.098247  \n",
       "5252                0.302488  0.911249  0.088751  \n",
       "21956               0.294744  0.923321  0.076679  \n",
       "42714               0.299054  0.734853  0.265147  \n",
       "18494               0.294787  0.917923  0.082077  \n",
       "\n",
       "[5 rows x 54 columns]"
      ]
     },
     "execution_count": 16,
     "metadata": {},
     "output_type": "execute_result"
    }
   ],
   "source": [
    "df.head()"
   ]
  },
  {
   "cell_type": "markdown",
   "id": "2d287e6d-928d-468e-9b1f-65a6039f354c",
   "metadata": {},
   "source": [
    "prob_0\t= probabilidade de estar satisfeito  \n",
    "prob_1 = probabilidade de churn"
   ]
  },
  {
   "cell_type": "code",
   "execution_count": 17,
   "id": "ad45f63f-27ed-4022-98c7-6f34ed3c3a8a",
   "metadata": {},
   "outputs": [],
   "source": [
    "def ks(data=None,target=None, prob=None):\n",
    "    ## finding at: https://www.listendata.com/2019/07/KS-Statistics-Python.html\n",
    "    data['target0'] = 1 - data[target]\n",
    "    data['bucket'] = pd.qcut(data[prob], 5)\n",
    "    grouped = data.groupby('bucket', as_index = False)\n",
    "    kstable = pd.DataFrame()\n",
    "    kstable['min_prob'] = grouped.min()[prob]\n",
    "    kstable['max_prob'] = grouped.max()[prob]\n",
    "    kstable['events']   = grouped.sum()[target]\n",
    "    kstable['nonevents'] = grouped.sum()['target0']\n",
    "    kstable = kstable.sort_values(by=\"min_prob\", ascending=False).reset_index(drop = True)\n",
    "    kstable['event_rate'] = (kstable.events / data[target].sum()).apply('{0:.2}'.format).astype(float) * 100\n",
    "    kstable['nonevent_rate'] = (kstable.nonevents / data['target0'].sum()).apply('{0:.2}'.format).astype(float) * 100\n",
    "    kstable['cum_eventrate']=(kstable.events / data[target].sum()).cumsum()\n",
    "    kstable['cum_noneventrate']=(kstable.nonevents / data['target0'].sum()).cumsum()\n",
    "    kstable['KS'] = np.round(kstable['cum_eventrate']-kstable['cum_noneventrate'], 3) * 100\n",
    "\n",
    "    #Formating\n",
    "    kstable['cum_eventrate']= kstable['cum_eventrate'].apply('{0:.2}'.format).astype(float) * 100\n",
    "    kstable['cum_noneventrate']= kstable['cum_noneventrate'].apply('{0:.2}'.format).astype(float) * 100\n",
    "    kstable.index = range(1,6)\n",
    "    kstable.index.rename('Decile', inplace=True)\n",
    "    pd.set_option('display.max_columns', 9)\n",
    "    # print(kstable)\n",
    "    \n",
    "    #Display KS\n",
    "    from colorama import Fore\n",
    "    print(Fore.RED + \"KS is \" + str(max(kstable['KS']))+\"%\"+ \" at decile \" + str((kstable.index[kstable['KS']==max(kstable['KS'])][0])))\n",
    "    return(kstable)"
   ]
  },
  {
   "cell_type": "code",
   "execution_count": 18,
   "id": "521e49fa-f8fa-42fb-8f01-e1d1c08d3e79",
   "metadata": {},
   "outputs": [
    {
     "data": {
      "text/plain": [
       "0.49733143469370783"
      ]
     },
     "execution_count": 18,
     "metadata": {},
     "output_type": "execute_result"
    }
   ],
   "source": [
    "from scipy.stats import ks_2samp\n",
    "yhat = df['prob_1']\n",
    "y = df['TARGET']\n",
    "def ks_stat(y, yhat):\n",
    "    return ks_2samp(yhat[y==1], yhat[y!=1]).statistic\n",
    "ks_stat(y, yhat)"
   ]
  },
  {
   "cell_type": "code",
   "execution_count": 19,
   "id": "04fef9b3-9e9f-49cc-9db0-b85266bec5d7",
   "metadata": {},
   "outputs": [],
   "source": [
    "import seaborn as sns"
   ]
  },
  {
   "cell_type": "code",
   "execution_count": 20,
   "id": "d4b1af55-63e5-4edc-87a0-8a2d6d4e2009",
   "metadata": {},
   "outputs": [],
   "source": [
    "target_0 = df[df['TARGET'] == 0]['prob_1'].values\n",
    "target_1 = df[df['TARGET'] == 1]['prob_1'].values\n"
   ]
  },
  {
   "cell_type": "code",
   "execution_count": 21,
   "id": "c97e6514-2722-4020-824b-91b5ad83bd17",
   "metadata": {},
   "outputs": [
    {
     "data": {
      "image/png": "[encoded data removed]",
      "text/plain": [
       "<Figure size 540x252 with 1 Axes>"
      ]
     },
     "metadata": {
      "needs_background": "light"
     },
     "output_type": "display_data"
    }
   ],
   "source": [
    "import numpy as np\n",
    "from matplotlib import pyplot as plt\n",
    "\n",
    "plt.rcParams[\"figure.figsize\"] = [7.50, 3.50]\n",
    "plt.rcParams[\"figure.autolayout\"] = True\n",
    "\n",
    "data = target_0\n",
    "count, bins_count = np.histogram(data, bins=10)\n",
    "pdf = count / sum(count)\n",
    "cdf = np.cumsum(pdf)\n",
    "plt.plot(bins_count[1:], cdf, label=\"target 2\")\n",
    "\n",
    "data1 = target_1\n",
    "count1, bins_count1 = np.histogram(data1, bins=10)\n",
    "pdf1= count1 / sum(count1)\n",
    "cdf1 = np.cumsum(pdf1)\n",
    "plt.plot(bins_count1[1:], cdf1, label=\"target 1\")\n",
    "\n",
    "\n",
    "plt.legend()\n",
    "plt.show()"
   ]
  },
  {
   "cell_type": "code",
   "execution_count": 22,
   "id": "bda5c4a1-45f6-4ee8-93d6-f11ffe6739f7",
   "metadata": {},
   "outputs": [
    {
     "data": {
      "text/plain": [
       "0.49733143469370783"
      ]
     },
     "execution_count": 22,
     "metadata": {},
     "output_type": "execute_result"
    }
   ],
   "source": [
    "from scipy.stats import ks_2samp\n",
    "yhat = df['prob_1']\n",
    "y = df['TARGET']\n",
    "def ks_stat(y, yhat):\n",
    "    return ks_2samp(yhat[y==1], yhat[y!=1]).statistic\n",
    "ks_stat(y, yhat)"
   ]
  },
  {
   "cell_type": "code",
   "execution_count": 23,
   "id": "116e7926-595f-4090-a97c-ed14647242dc",
   "metadata": {},
   "outputs": [
    {
     "name": "stdout",
     "output_type": "stream",
     "text": [
      "\u001b[31mKS is 47.9% at decile 1\n"
     ]
    },
    {
     "data": {
      "text/html": [
       "<div>\n",
       "<style scoped>\n",
       "    .dataframe tbody tr th:only-of-type {\n",
       "        vertical-align: middle;\n",
       "    }\n",
       "\n",
       "    .dataframe tbody tr th {\n",
       "        vertical-align: top;\n",
       "    }\n",
       "\n",
       "    .dataframe thead th {\n",
       "        text-align: right;\n",
       "    }\n",
       "</style>\n",
       "<table border=\"1\" class=\"dataframe\">\n",
       "  <thead>\n",
       "    <tr style=\"text-align: right;\">\n",
       "      <th></th>\n",
       "      <th>min_prob</th>\n",
       "      <th>max_prob</th>\n",
       "      <th>events</th>\n",
       "      <th>nonevents</th>\n",
       "      <th>event_rate</th>\n",
       "      <th>nonevent_rate</th>\n",
       "      <th>cum_eventrate</th>\n",
       "      <th>cum_noneventrate</th>\n",
       "      <th>KS</th>\n",
       "    </tr>\n",
       "    <tr>\n",
       "      <th>Decile</th>\n",
       "      <th></th>\n",
       "      <th></th>\n",
       "      <th></th>\n",
       "      <th></th>\n",
       "      <th></th>\n",
       "      <th></th>\n",
       "      <th></th>\n",
       "      <th></th>\n",
       "      <th></th>\n",
       "    </tr>\n",
       "  </thead>\n",
       "  <tbody>\n",
       "    <tr>\n",
       "      <th>1</th>\n",
       "      <td>0.349352</td>\n",
       "      <td>0.839060</td>\n",
       "      <td>397</td>\n",
       "      <td>2549</td>\n",
       "      <td>65.0</td>\n",
       "      <td>17.0</td>\n",
       "      <td>65.0</td>\n",
       "      <td>17.0</td>\n",
       "      <td>47.9</td>\n",
       "    </tr>\n",
       "    <tr>\n",
       "      <th>2</th>\n",
       "      <td>0.198376</td>\n",
       "      <td>0.348758</td>\n",
       "      <td>102</td>\n",
       "      <td>3034</td>\n",
       "      <td>17.0</td>\n",
       "      <td>21.0</td>\n",
       "      <td>82.0</td>\n",
       "      <td>38.0</td>\n",
       "      <td>44.0</td>\n",
       "    </tr>\n",
       "    <tr>\n",
       "      <th>3</th>\n",
       "      <td>0.106578</td>\n",
       "      <td>0.198372</td>\n",
       "      <td>57</td>\n",
       "      <td>2983</td>\n",
       "      <td>9.4</td>\n",
       "      <td>20.0</td>\n",
       "      <td>92.0</td>\n",
       "      <td>59.0</td>\n",
       "      <td>32.9</td>\n",
       "    </tr>\n",
       "    <tr>\n",
       "      <th>4</th>\n",
       "      <td>0.054186</td>\n",
       "      <td>0.106567</td>\n",
       "      <td>38</td>\n",
       "      <td>3003</td>\n",
       "      <td>6.3</td>\n",
       "      <td>21.0</td>\n",
       "      <td>98.0</td>\n",
       "      <td>79.0</td>\n",
       "      <td>18.6</td>\n",
       "    </tr>\n",
       "    <tr>\n",
       "      <th>5</th>\n",
       "      <td>0.014474</td>\n",
       "      <td>0.054181</td>\n",
       "      <td>13</td>\n",
       "      <td>3028</td>\n",
       "      <td>2.1</td>\n",
       "      <td>21.0</td>\n",
       "      <td>100.0</td>\n",
       "      <td>100.0</td>\n",
       "      <td>0.0</td>\n",
       "    </tr>\n",
       "  </tbody>\n",
       "</table>\n",
       "</div>"
      ],
      "text/plain": [
       "        min_prob  max_prob  events  nonevents  event_rate  nonevent_rate  \\\n",
       "Decile                                                                     \n",
       "1       0.349352  0.839060     397       2549        65.0           17.0   \n",
       "2       0.198376  0.348758     102       3034        17.0           21.0   \n",
       "3       0.106578  0.198372      57       2983         9.4           20.0   \n",
       "4       0.054186  0.106567      38       3003         6.3           21.0   \n",
       "5       0.014474  0.054181      13       3028         2.1           21.0   \n",
       "\n",
       "        cum_eventrate  cum_noneventrate    KS  \n",
       "Decile                                         \n",
       "1                65.0              17.0  47.9  \n",
       "2                82.0              38.0  44.0  \n",
       "3                92.0              59.0  32.9  \n",
       "4                98.0              79.0  18.6  \n",
       "5               100.0             100.0   0.0  "
      ]
     },
     "execution_count": 23,
     "metadata": {},
     "output_type": "execute_result"
    }
   ],
   "source": [
    "results_quintil = ks(df, target='TARGET', prob='prob_1')\n",
    "results_quintil"
   ]
  },
  {
   "cell_type": "code",
   "execution_count": 24,
   "id": "7ccca2f1-a677-4b32-bd1f-fed4c1838217",
   "metadata": {},
   "outputs": [
    {
     "name": "stdout",
     "output_type": "stream",
     "text": [
      "Roc Auc:  0.80855762490521\n",
      "Gini:  0.61711524981042\n"
     ]
    }
   ],
   "source": [
    "from sklearn.metrics import roc_auc_score\n",
    "\n",
    "print(\"Roc Auc: \",roc_auc_score(df['TARGET'], df['prob_1']))\n",
    "print(\"Gini: \",2*(roc_auc_score(df['TARGET'], df['prob_1']))-1)"
   ]
  },
  {
   "cell_type": "code",
   "execution_count": 25,
   "id": "54003623-b2b4-4cf5-9b03-ff5027546944",
   "metadata": {},
   "outputs": [],
   "source": [
    "results_quintil.columns = ['min_prob','max_prob','Qtd de eventos (Target)','Qtd de não-eventos (Target)','% de eventos no Decil','% de não-eventos no Decil','% de evento acumulados','% de não-evento acumulados','KS']\n",
    "results_quintil.to_csv(\"results_model4_rf_ifscore_fs4.csv\",sep=';')"
   ]
  }
 ],
 "metadata": {
  "kernelspec": {
   "display_name": "Python 3 (ipykernel)",
   "language": "python",
   "name": "python3"
  },
  "language_info": {
   "codemirror_mode": {
    "name": "ipython",
    "version": 3
   },
   "file_extension": ".py",
   "mimetype": "text/x-python",
   "name": "python",
   "nbconvert_exporter": "python",
   "pygments_lexer": "ipython3",
   "version": "3.8.10"
  }
 },
 "nbformat": 4,
 "nbformat_minor": 5
}
