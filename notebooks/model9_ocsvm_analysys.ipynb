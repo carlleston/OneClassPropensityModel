{
 "cells": [
  {
   "cell_type": "code",
   "execution_count": 10,
   "id": "5f138f63-a2d5-4276-92e4-90a6b14873fe",
   "metadata": {},
   "outputs": [],
   "source": [
    "import pandas as pd\n",
    "import numpy as np"
   ]
  },
  {
   "cell_type": "code",
   "execution_count": 11,
   "id": "31aa998e-4601-4308-a8b3-341850dcb945",
   "metadata": {},
   "outputs": [],
   "source": [
    "df = pd.read_csv('../models/ocsvm_df_test_cleaned_pred.csv',sep=';', index_col=0)"
   ]
  },
  {
   "cell_type": "code",
   "execution_count": 12,
   "id": "399a953e-c75d-46b1-be4b-a88dd11cca52",
   "metadata": {},
   "outputs": [
    {
     "data": {
      "text/html": [
       "<div>\n",
       "<style scoped>\n",
       "    .dataframe tbody tr th:only-of-type {\n",
       "        vertical-align: middle;\n",
       "    }\n",
       "\n",
       "    .dataframe tbody tr th {\n",
       "        vertical-align: top;\n",
       "    }\n",
       "\n",
       "    .dataframe thead th {\n",
       "        text-align: right;\n",
       "    }\n",
       "</style>\n",
       "<table border=\"1\" class=\"dataframe\">\n",
       "  <thead>\n",
       "    <tr style=\"text-align: right;\">\n",
       "      <th></th>\n",
       "      <th>score_samples</th>\n",
       "      <th>ind_var30</th>\n",
       "      <th>var36</th>\n",
       "      <th>var15</th>\n",
       "      <th>...</th>\n",
       "      <th>num_var29_0</th>\n",
       "      <th>num_aport_var33_ult1</th>\n",
       "      <th>TARGET</th>\n",
       "      <th>ID</th>\n",
       "    </tr>\n",
       "  </thead>\n",
       "  <tbody>\n",
       "    <tr>\n",
       "      <th>50595</th>\n",
       "      <td>1278.935705</td>\n",
       "      <td>1</td>\n",
       "      <td>1</td>\n",
       "      <td>45</td>\n",
       "      <td>...</td>\n",
       "      <td>0</td>\n",
       "      <td>0</td>\n",
       "      <td>0</td>\n",
       "      <td>101019</td>\n",
       "    </tr>\n",
       "    <tr>\n",
       "      <th>5252</th>\n",
       "      <td>7168.393634</td>\n",
       "      <td>1</td>\n",
       "      <td>3</td>\n",
       "      <td>60</td>\n",
       "      <td>...</td>\n",
       "      <td>0</td>\n",
       "      <td>0</td>\n",
       "      <td>0</td>\n",
       "      <td>10518</td>\n",
       "    </tr>\n",
       "    <tr>\n",
       "      <th>21956</th>\n",
       "      <td>1069.038083</td>\n",
       "      <td>1</td>\n",
       "      <td>3</td>\n",
       "      <td>27</td>\n",
       "      <td>...</td>\n",
       "      <td>0</td>\n",
       "      <td>0</td>\n",
       "      <td>0</td>\n",
       "      <td>43966</td>\n",
       "    </tr>\n",
       "    <tr>\n",
       "      <th>42714</th>\n",
       "      <td>-273.994650</td>\n",
       "      <td>1</td>\n",
       "      <td>1</td>\n",
       "      <td>38</td>\n",
       "      <td>...</td>\n",
       "      <td>0</td>\n",
       "      <td>0</td>\n",
       "      <td>0</td>\n",
       "      <td>85554</td>\n",
       "    </tr>\n",
       "    <tr>\n",
       "      <th>18494</th>\n",
       "      <td>1281.258936</td>\n",
       "      <td>1</td>\n",
       "      <td>3</td>\n",
       "      <td>23</td>\n",
       "      <td>...</td>\n",
       "      <td>0</td>\n",
       "      <td>0</td>\n",
       "      <td>0</td>\n",
       "      <td>37070</td>\n",
       "    </tr>\n",
       "  </tbody>\n",
       "</table>\n",
       "<p>5 rows × 90 columns</p>\n",
       "</div>"
      ],
      "text/plain": [
       "       score_samples  ind_var30  var36  var15  ...  num_var29_0  \\\n",
       "50595    1278.935705          1      1     45  ...            0   \n",
       "5252     7168.393634          1      3     60  ...            0   \n",
       "21956    1069.038083          1      3     27  ...            0   \n",
       "42714    -273.994650          1      1     38  ...            0   \n",
       "18494    1281.258936          1      3     23  ...            0   \n",
       "\n",
       "       num_aport_var33_ult1  TARGET      ID  \n",
       "50595                     0       0  101019  \n",
       "5252                      0       0   10518  \n",
       "21956                     0       0   43966  \n",
       "42714                     0       0   85554  \n",
       "18494                     0       0   37070  \n",
       "\n",
       "[5 rows x 90 columns]"
      ]
     },
     "execution_count": 12,
     "metadata": {},
     "output_type": "execute_result"
    }
   ],
   "source": [
    "df.head()"
   ]
  },
  {
   "cell_type": "code",
   "execution_count": 4,
   "id": "96332ac2-9c87-4f92-b630-219369f743a7",
   "metadata": {},
   "outputs": [],
   "source": [
    "df['score_samples'] = df['score_samples'] *-1"
   ]
  },
  {
   "cell_type": "markdown",
   "id": "436d6288-49fb-4128-966f-81f70c454207",
   "metadata": {},
   "source": [
    "A score close to 1 indicates anomalies.  \n",
    "Score much smaller than 0.5 indicates normal observations.  \n",
    "If all scores are close to 0.5 then the entire sample does not seem to have clearly distinct anomalies.  "
   ]
  },
  {
   "cell_type": "markdown",
   "id": "2d287e6d-928d-468e-9b1f-65a6039f354c",
   "metadata": {},
   "source": [
    "prob_0\t= probabilidade de estar satisfeito  \n",
    "prob_1 = probabilidade de churn"
   ]
  },
  {
   "cell_type": "code",
   "execution_count": 5,
   "id": "ad45f63f-27ed-4022-98c7-6f34ed3c3a8a",
   "metadata": {},
   "outputs": [],
   "source": [
    "def ks(data=None,target=None, prob=None):\n",
    "    ## finding at: https://www.listendata.com/2019/07/KS-Statistics-Python.html\n",
    "    data['target0'] = 1 - data[target]\n",
    "    data['bucket'] = pd.qcut(data[prob], 5)\n",
    "    grouped = data.groupby('bucket', as_index = False)\n",
    "    kstable = pd.DataFrame()\n",
    "    kstable['min_prob'] = grouped.min()[prob]\n",
    "    kstable['max_prob'] = grouped.max()[prob]\n",
    "    kstable['events']   = grouped.sum()[target]\n",
    "    kstable['nonevents'] = grouped.sum()['target0']\n",
    "    kstable = kstable.sort_values(by=\"min_prob\", ascending=False).reset_index(drop = True)\n",
    "    kstable['event_rate'] = (kstable.events / data[target].sum()).apply('{0:.2}'.format).astype(float) * 100\n",
    "    kstable['nonevent_rate'] = (kstable.nonevents / data['target0'].sum()).apply('{0:.2}'.format).astype(float) * 100\n",
    "    kstable['cum_eventrate']=(kstable.events / data[target].sum()).cumsum()\n",
    "    kstable['cum_noneventrate']=(kstable.nonevents / data['target0'].sum()).cumsum()\n",
    "    kstable['KS'] = np.round(kstable['cum_eventrate']-kstable['cum_noneventrate'], 3) * 100\n",
    "\n",
    "    #Formating\n",
    "    kstable['cum_eventrate']= kstable['cum_eventrate'].apply('{0:.2}'.format).astype(float) * 100\n",
    "    kstable['cum_noneventrate']= kstable['cum_noneventrate'].apply('{0:.2}'.format).astype(float) * 100\n",
    "    kstable.index = range(1,6)\n",
    "    kstable.index.rename('Decile', inplace=True)\n",
    "    pd.set_option('display.max_columns', 9)\n",
    "    # print(kstable)\n",
    "    \n",
    "    #Display KS\n",
    "    from colorama import Fore\n",
    "    print(Fore.RED + \"KS is \" + str(max(kstable['KS']))+\"%\"+ \" at decile \" + str((kstable.index[kstable['KS']==max(kstable['KS'])][0])))\n",
    "    return(kstable)"
   ]
  },
  {
   "cell_type": "code",
   "execution_count": 6,
   "id": "7960d4e1-e08b-407f-9de6-c56670d04de5",
   "metadata": {},
   "outputs": [
    {
     "data": {
      "text/plain": [
       "0.4165245075859622"
      ]
     },
     "execution_count": 6,
     "metadata": {},
     "output_type": "execute_result"
    }
   ],
   "source": [
    "from scipy.stats import ks_2samp\n",
    "yhat = df['score_samples']\n",
    "y = df['TARGET']\n",
    "def ks_stat(y, yhat):\n",
    "    return ks_2samp(yhat[y==1], yhat[y!=1]).statistic\n",
    "ks_stat(y, yhat)"
   ]
  },
  {
   "cell_type": "code",
   "execution_count": 7,
   "id": "77151fa1-b070-4cd5-a6ba-4c69032d432c",
   "metadata": {
    "tags": []
   },
   "outputs": [
    {
     "name": "stdout",
     "output_type": "stream",
     "text": [
      "\u001b[31mKS is 41.5% at decile 1\n"
     ]
    },
    {
     "data": {
      "text/html": [
       "<div>\n",
       "<style scoped>\n",
       "    .dataframe tbody tr th:only-of-type {\n",
       "        vertical-align: middle;\n",
       "    }\n",
       "\n",
       "    .dataframe tbody tr th {\n",
       "        vertical-align: top;\n",
       "    }\n",
       "\n",
       "    .dataframe thead th {\n",
       "        text-align: right;\n",
       "    }\n",
       "</style>\n",
       "<table border=\"1\" class=\"dataframe\">\n",
       "  <thead>\n",
       "    <tr style=\"text-align: right;\">\n",
       "      <th></th>\n",
       "      <th>min_prob</th>\n",
       "      <th>max_prob</th>\n",
       "      <th>events</th>\n",
       "      <th>nonevents</th>\n",
       "      <th>event_rate</th>\n",
       "      <th>nonevent_rate</th>\n",
       "      <th>cum_eventrate</th>\n",
       "      <th>cum_noneventrate</th>\n",
       "      <th>KS</th>\n",
       "    </tr>\n",
       "    <tr>\n",
       "      <th>Decile</th>\n",
       "      <th></th>\n",
       "      <th></th>\n",
       "      <th></th>\n",
       "      <th></th>\n",
       "      <th></th>\n",
       "      <th></th>\n",
       "      <th></th>\n",
       "      <th></th>\n",
       "      <th></th>\n",
       "    </tr>\n",
       "  </thead>\n",
       "  <tbody>\n",
       "    <tr>\n",
       "      <th>1</th>\n",
       "      <td>1948.868276</td>\n",
       "      <td>45138.054344</td>\n",
       "      <td>363</td>\n",
       "      <td>2678</td>\n",
       "      <td>60.0</td>\n",
       "      <td>18.0</td>\n",
       "      <td>60.0</td>\n",
       "      <td>18.0</td>\n",
       "      <td>41.5</td>\n",
       "    </tr>\n",
       "    <tr>\n",
       "      <th>2</th>\n",
       "      <td>86.101036</td>\n",
       "      <td>1948.855057</td>\n",
       "      <td>90</td>\n",
       "      <td>2951</td>\n",
       "      <td>15.0</td>\n",
       "      <td>20.0</td>\n",
       "      <td>75.0</td>\n",
       "      <td>39.0</td>\n",
       "      <td>36.1</td>\n",
       "    </tr>\n",
       "    <tr>\n",
       "      <th>3</th>\n",
       "      <td>-752.402668</td>\n",
       "      <td>85.861656</td>\n",
       "      <td>64</td>\n",
       "      <td>2976</td>\n",
       "      <td>11.0</td>\n",
       "      <td>20.0</td>\n",
       "      <td>85.0</td>\n",
       "      <td>59.0</td>\n",
       "      <td>26.2</td>\n",
       "    </tr>\n",
       "    <tr>\n",
       "      <th>4</th>\n",
       "      <td>-1258.653490</td>\n",
       "      <td>-753.722914</td>\n",
       "      <td>54</td>\n",
       "      <td>2987</td>\n",
       "      <td>8.9</td>\n",
       "      <td>20.0</td>\n",
       "      <td>94.0</td>\n",
       "      <td>79.0</td>\n",
       "      <td>14.7</td>\n",
       "    </tr>\n",
       "    <tr>\n",
       "      <th>5</th>\n",
       "      <td>-36442.374672</td>\n",
       "      <td>-1258.655996</td>\n",
       "      <td>36</td>\n",
       "      <td>3005</td>\n",
       "      <td>5.9</td>\n",
       "      <td>21.0</td>\n",
       "      <td>100.0</td>\n",
       "      <td>100.0</td>\n",
       "      <td>0.0</td>\n",
       "    </tr>\n",
       "  </tbody>\n",
       "</table>\n",
       "</div>"
      ],
      "text/plain": [
       "            min_prob      max_prob  events  nonevents  event_rate  \\\n",
       "Decile                                                              \n",
       "1        1948.868276  45138.054344     363       2678        60.0   \n",
       "2          86.101036   1948.855057      90       2951        15.0   \n",
       "3        -752.402668     85.861656      64       2976        11.0   \n",
       "4       -1258.653490   -753.722914      54       2987         8.9   \n",
       "5      -36442.374672  -1258.655996      36       3005         5.9   \n",
       "\n",
       "        nonevent_rate  cum_eventrate  cum_noneventrate    KS  \n",
       "Decile                                                        \n",
       "1                18.0           60.0              18.0  41.5  \n",
       "2                20.0           75.0              39.0  36.1  \n",
       "3                20.0           85.0              59.0  26.2  \n",
       "4                20.0           94.0              79.0  14.7  \n",
       "5                21.0          100.0             100.0   0.0  "
      ]
     },
     "execution_count": 7,
     "metadata": {},
     "output_type": "execute_result"
    }
   ],
   "source": [
    "results_quintil = ks(df, target='TARGET', prob='score_samples')\n",
    "results_quintil"
   ]
  },
  {
   "cell_type": "code",
   "execution_count": 8,
   "id": "e6494513-2b9d-4ebf-be54-b548457c94cb",
   "metadata": {},
   "outputs": [
    {
     "name": "stdout",
     "output_type": "stream",
     "text": [
      "Roc Auc:  0.7371495056814161\n",
      "Gini:  0.47429901136283226\n"
     ]
    }
   ],
   "source": [
    "from sklearn.metrics import roc_auc_score\n",
    "\n",
    "print(\"Roc Auc: \",roc_auc_score(df['TARGET'], df['score_samples']))\n",
    "print(\"Gini: \",2*(roc_auc_score(df['TARGET'], df['score_samples']))-1)"
   ]
  },
  {
   "cell_type": "code",
   "execution_count": 9,
   "id": "08da1d67-a775-495c-bd4e-d6e803561722",
   "metadata": {},
   "outputs": [],
   "source": [
    "results_quintil.columns = ['min_prob','max_prob','Qtd de eventos (Target)','Qtd de não-eventos (Target)','% de eventos no Decil','% de não-eventos no Decil','% de evento acumulados','% de não-evento acumulados','KS']\n",
    "results_quintil.to_csv(\"results_model9_ocsvm_fs1.csv\",sep=';')"
   ]
  }
 ],
 "metadata": {
  "kernelspec": {
   "display_name": "Python 3 (ipykernel)",
   "language": "python",
   "name": "python3"
  },
  "language_info": {
   "codemirror_mode": {
    "name": "ipython",
    "version": 3
   },
   "file_extension": ".py",
   "mimetype": "text/x-python",
   "name": "python",
   "nbconvert_exporter": "python",
   "pygments_lexer": "ipython3",
   "version": "3.8.10"
  }
 },
 "nbformat": 4,
 "nbformat_minor": 5
}
