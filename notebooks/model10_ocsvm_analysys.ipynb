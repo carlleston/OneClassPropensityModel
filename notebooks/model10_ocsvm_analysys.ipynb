{
 "cells": [
  {
   "cell_type": "code",
   "execution_count": 1,
   "id": "5f138f63-a2d5-4276-92e4-90a6b14873fe",
   "metadata": {},
   "outputs": [],
   "source": [
    "import pandas as pd\n",
    "import numpy as np"
   ]
  },
  {
   "cell_type": "code",
   "execution_count": 2,
   "id": "31aa998e-4601-4308-a8b3-341850dcb945",
   "metadata": {},
   "outputs": [],
   "source": [
    "df = pd.read_csv('../models/ocsvm_df_test_fsborda_pred.csv',sep=';', index_col=0)"
   ]
  },
  {
   "cell_type": "code",
   "execution_count": 3,
   "id": "96332ac2-9c87-4f92-b630-219369f743a7",
   "metadata": {},
   "outputs": [],
   "source": [
    "df['score_samples'] = df['score_samples'] *-1"
   ]
  },
  {
   "cell_type": "markdown",
   "id": "436d6288-49fb-4128-966f-81f70c454207",
   "metadata": {},
   "source": [
    "A score close to 1 indicates anomalies.  \n",
    "Score much smaller than 0.5 indicates normal observations.  \n",
    "If all scores are close to 0.5 then the entire sample does not seem to have clearly distinct anomalies.  "
   ]
  },
  {
   "cell_type": "markdown",
   "id": "2d287e6d-928d-468e-9b1f-65a6039f354c",
   "metadata": {},
   "source": [
    "prob_0\t= probabilidade de estar satisfeito  \n",
    "prob_1 = probabilidade de churn"
   ]
  },
  {
   "cell_type": "code",
   "execution_count": 4,
   "id": "ad45f63f-27ed-4022-98c7-6f34ed3c3a8a",
   "metadata": {},
   "outputs": [],
   "source": [
    "def ks(data=None,target=None, prob=None):\n",
    "    ## finding at: https://www.listendata.com/2019/07/KS-Statistics-Python.html\n",
    "    data['target0'] = 1 - data[target]\n",
    "    data['bucket'] = pd.qcut(data[prob], 5)\n",
    "    grouped = data.groupby('bucket', as_index = False)\n",
    "    kstable = pd.DataFrame()\n",
    "    kstable['min_prob'] = grouped.min()[prob]\n",
    "    kstable['max_prob'] = grouped.max()[prob]\n",
    "    kstable['events']   = grouped.sum()[target]\n",
    "    kstable['nonevents'] = grouped.sum()['target0']\n",
    "    kstable = kstable.sort_values(by=\"min_prob\", ascending=False).reset_index(drop = True)\n",
    "    kstable['event_rate'] = (kstable.events / data[target].sum()).apply('{0:.2}'.format).astype(float) * 100\n",
    "    kstable['nonevent_rate'] = (kstable.nonevents / data['target0'].sum()).apply('{0:.2}'.format).astype(float) * 100\n",
    "    kstable['cum_eventrate']=(kstable.events / data[target].sum()).cumsum()\n",
    "    kstable['cum_noneventrate']=(kstable.nonevents / data['target0'].sum()).cumsum()\n",
    "    kstable['KS'] = np.round(kstable['cum_eventrate']-kstable['cum_noneventrate'], 3) * 100\n",
    "\n",
    "    #Formating\n",
    "    kstable['cum_eventrate']= kstable['cum_eventrate'].apply('{0:.2}'.format).astype(float) * 100\n",
    "    kstable['cum_noneventrate']= kstable['cum_noneventrate'].apply('{0:.2}'.format).astype(float) * 100\n",
    "    kstable.index = range(1,6)\n",
    "    kstable.index.rename('Decile', inplace=True)\n",
    "    pd.set_option('display.max_columns', 9)\n",
    "    # print(kstable)\n",
    "    \n",
    "    #Display KS\n",
    "    from colorama import Fore\n",
    "    print(Fore.RED + \"KS is \" + str(max(kstable['KS']))+\"%\"+ \" at decile \" + str((kstable.index[kstable['KS']==max(kstable['KS'])][0])))\n",
    "    return(kstable)"
   ]
  },
  {
   "cell_type": "code",
   "execution_count": 5,
   "id": "7960d4e1-e08b-407f-9de6-c56670d04de5",
   "metadata": {},
   "outputs": [
    {
     "data": {
      "text/plain": [
       "0.3813903445890972"
      ]
     },
     "execution_count": 5,
     "metadata": {},
     "output_type": "execute_result"
    }
   ],
   "source": [
    "from scipy.stats import ks_2samp\n",
    "yhat = df['score_samples']\n",
    "y = df['TARGET']\n",
    "def ks_stat(y, yhat):\n",
    "    return ks_2samp(yhat[y==1], yhat[y!=1]).statistic\n",
    "ks_stat(y, yhat)"
   ]
  },
  {
   "cell_type": "code",
   "execution_count": 6,
   "id": "77151fa1-b070-4cd5-a6ba-4c69032d432c",
   "metadata": {
    "tags": []
   },
   "outputs": [
    {
     "name": "stdout",
     "output_type": "stream",
     "text": [
      "\u001b[31mKS is 33.2% at decile 1\n"
     ]
    },
    {
     "data": {
      "text/html": [
       "<div>\n",
       "<style scoped>\n",
       "    .dataframe tbody tr th:only-of-type {\n",
       "        vertical-align: middle;\n",
       "    }\n",
       "\n",
       "    .dataframe tbody tr th {\n",
       "        vertical-align: top;\n",
       "    }\n",
       "\n",
       "    .dataframe thead th {\n",
       "        text-align: right;\n",
       "    }\n",
       "</style>\n",
       "<table border=\"1\" class=\"dataframe\">\n",
       "  <thead>\n",
       "    <tr style=\"text-align: right;\">\n",
       "      <th></th>\n",
       "      <th>min_prob</th>\n",
       "      <th>max_prob</th>\n",
       "      <th>events</th>\n",
       "      <th>nonevents</th>\n",
       "      <th>event_rate</th>\n",
       "      <th>nonevent_rate</th>\n",
       "      <th>cum_eventrate</th>\n",
       "      <th>cum_noneventrate</th>\n",
       "      <th>KS</th>\n",
       "    </tr>\n",
       "    <tr>\n",
       "      <th>Decile</th>\n",
       "      <th></th>\n",
       "      <th></th>\n",
       "      <th></th>\n",
       "      <th></th>\n",
       "      <th></th>\n",
       "      <th></th>\n",
       "      <th></th>\n",
       "      <th></th>\n",
       "      <th></th>\n",
       "    </tr>\n",
       "  </thead>\n",
       "  <tbody>\n",
       "    <tr>\n",
       "      <th>1</th>\n",
       "      <td>1739.063425</td>\n",
       "      <td>182584.589151</td>\n",
       "      <td>315</td>\n",
       "      <td>2726</td>\n",
       "      <td>52.0</td>\n",
       "      <td>19.0</td>\n",
       "      <td>52.0</td>\n",
       "      <td>19.0</td>\n",
       "      <td>33.2</td>\n",
       "    </tr>\n",
       "    <tr>\n",
       "      <th>2</th>\n",
       "      <td>69.333678</td>\n",
       "      <td>1738.431432</td>\n",
       "      <td>118</td>\n",
       "      <td>2923</td>\n",
       "      <td>19.0</td>\n",
       "      <td>20.0</td>\n",
       "      <td>71.0</td>\n",
       "      <td>39.0</td>\n",
       "      <td>32.6</td>\n",
       "    </tr>\n",
       "    <tr>\n",
       "      <th>3</th>\n",
       "      <td>-1392.738405</td>\n",
       "      <td>67.960450</td>\n",
       "      <td>73</td>\n",
       "      <td>2967</td>\n",
       "      <td>12.0</td>\n",
       "      <td>20.0</td>\n",
       "      <td>83.0</td>\n",
       "      <td>59.0</td>\n",
       "      <td>24.3</td>\n",
       "    </tr>\n",
       "    <tr>\n",
       "      <th>4</th>\n",
       "      <td>-2401.917073</td>\n",
       "      <td>-1393.920233</td>\n",
       "      <td>70</td>\n",
       "      <td>2971</td>\n",
       "      <td>12.0</td>\n",
       "      <td>20.0</td>\n",
       "      <td>95.0</td>\n",
       "      <td>79.0</td>\n",
       "      <td>15.5</td>\n",
       "    </tr>\n",
       "    <tr>\n",
       "      <th>5</th>\n",
       "      <td>-219872.170103</td>\n",
       "      <td>-2402.377152</td>\n",
       "      <td>31</td>\n",
       "      <td>3010</td>\n",
       "      <td>5.1</td>\n",
       "      <td>21.0</td>\n",
       "      <td>100.0</td>\n",
       "      <td>100.0</td>\n",
       "      <td>0.0</td>\n",
       "    </tr>\n",
       "  </tbody>\n",
       "</table>\n",
       "</div>"
      ],
      "text/plain": [
       "             min_prob       max_prob  events  nonevents  event_rate  \\\n",
       "Decile                                                                \n",
       "1         1739.063425  182584.589151     315       2726        52.0   \n",
       "2           69.333678    1738.431432     118       2923        19.0   \n",
       "3        -1392.738405      67.960450      73       2967        12.0   \n",
       "4        -2401.917073   -1393.920233      70       2971        12.0   \n",
       "5      -219872.170103   -2402.377152      31       3010         5.1   \n",
       "\n",
       "        nonevent_rate  cum_eventrate  cum_noneventrate    KS  \n",
       "Decile                                                        \n",
       "1                19.0           52.0              19.0  33.2  \n",
       "2                20.0           71.0              39.0  32.6  \n",
       "3                20.0           83.0              59.0  24.3  \n",
       "4                20.0           95.0              79.0  15.5  \n",
       "5                21.0          100.0             100.0   0.0  "
      ]
     },
     "execution_count": 6,
     "metadata": {},
     "output_type": "execute_result"
    }
   ],
   "source": [
    "results_quintil = ks(df, target='TARGET', prob='score_samples')\n",
    "results_quintil"
   ]
  },
  {
   "cell_type": "code",
   "execution_count": 7,
   "id": "e6494513-2b9d-4ebf-be54-b548457c94cb",
   "metadata": {},
   "outputs": [
    {
     "name": "stdout",
     "output_type": "stream",
     "text": [
      "Roc Auc:  0.7144387954510749\n",
      "Gini:  0.42887759090214983\n"
     ]
    }
   ],
   "source": [
    "from sklearn.metrics import roc_auc_score\n",
    "\n",
    "print(\"Roc Auc: \",roc_auc_score(df['TARGET'], df['score_samples']))\n",
    "print(\"Gini: \",2*(roc_auc_score(df['TARGET'], df['score_samples']))-1)"
   ]
  },
  {
   "cell_type": "code",
   "execution_count": 8,
   "id": "08da1d67-a775-495c-bd4e-d6e803561722",
   "metadata": {},
   "outputs": [],
   "source": [
    "results_quintil.columns = ['min_prob','max_prob','Qtd de eventos (Target)','Qtd de não-eventos (Target)','% de eventos no Decil','% de não-eventos no Decil','% de evento acumulados','% de não-evento acumulados','KS']\n",
    "results_quintil.to_csv(\"results_model10_ocsvm_fs4.csv\",sep=';')"
   ]
  }
 ],
 "metadata": {
  "kernelspec": {
   "display_name": "Python 3 (ipykernel)",
   "language": "python",
   "name": "python3"
  },
  "language_info": {
   "codemirror_mode": {
    "name": "ipython",
    "version": 3
   },
   "file_extension": ".py",
   "mimetype": "text/x-python",
   "name": "python",
   "nbconvert_exporter": "python",
   "pygments_lexer": "ipython3",
   "version": "3.8.10"
  }
 },
 "nbformat": 4,
 "nbformat_minor": 5
}
