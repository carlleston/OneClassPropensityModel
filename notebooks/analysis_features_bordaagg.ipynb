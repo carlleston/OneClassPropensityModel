{
 "cells": [
  {
   "cell_type": "code",
   "execution_count": 1,
   "id": "73ba5682-25e4-4e03-a033-dd4b4ed929bb",
   "metadata": {},
   "outputs": [],
   "source": [
    "from sklearn import datasets\n",
    "from sklearn.model_selection import train_test_split\n",
    "from sklearn.ensemble import IsolationForest\n",
    "from sklearn.svm import OneClassSVM\n",
    "from imblearn.over_sampling import SMOTE\n",
    "\n",
    "import pandas as pd\n",
    "import sklearn\n",
    "from imblearn.over_sampling import SMOTE\n"
   ]
  },
  {
   "cell_type": "code",
   "execution_count": 2,
   "id": "813b986b-92c8-4995-ba99-30a7fe09a75e",
   "metadata": {
    "tags": []
   },
   "outputs": [],
   "source": [
    "df = pd.read_csv(\"../data/raw/dataset.csv\", sep = ',')\n",
    "df_train, df_test = train_test_split(df, test_size=0.2, random_state=42)\n",
    "\n",
    "df_train_feat, df_test_feat = train_test_split(df_train, test_size=0.3, random_state=42)"
   ]
  },
  {
   "cell_type": "code",
   "execution_count": 3,
   "id": "0549d8b7-288b-45af-8189-634655bcf778",
   "metadata": {},
   "outputs": [],
   "source": [
    "df_ranks = pd.read_csv('../data/processed/ranks_borda_agg.csv',sep=';', index_col=0)\n"
   ]
  },
  {
   "cell_type": "code",
   "execution_count": 4,
   "id": "32e923c5-a0f6-40d1-aac5-a746f9f1b69c",
   "metadata": {},
   "outputs": [
    {
     "data": {
      "text/plain": [
       "TARGET\n",
       "0         40880\n",
       "1          1691\n",
       "dtype: int64"
      ]
     },
     "execution_count": 4,
     "metadata": {},
     "output_type": "execute_result"
    }
   ],
   "source": [
    "df_train_feat[['TARGET']].value_counts()"
   ]
  },
  {
   "cell_type": "code",
   "execution_count": 5,
   "id": "834aef65-9db6-4490-bfd9-cdc72a1fae23",
   "metadata": {},
   "outputs": [
    {
     "data": {
      "text/plain": [
       "TARGET\n",
       "0         0.960278\n",
       "1         0.039722\n",
       "dtype: float64"
      ]
     },
     "execution_count": 5,
     "metadata": {},
     "output_type": "execute_result"
    }
   ],
   "source": [
    "df_train_feat[['TARGET']].value_counts()/df_train_feat['TARGET'].count()"
   ]
  },
  {
   "cell_type": "markdown",
   "id": "a8a0065f-7c82-4d8d-84f7-711d35543699",
   "metadata": {},
   "source": [
    "## Isolation Forest - Features Analysis"
   ]
  },
  {
   "cell_type": "code",
   "execution_count": 6,
   "id": "7bd54204-3293-4fc8-afee-c51756a42808",
   "metadata": {
    "tags": []
   },
   "outputs": [
    {
     "name": "stdout",
     "output_type": "stream",
     "text": [
      "number of features:  10  ks:  0.14568609260352527\n",
      "number of features:  20  ks:  0.24669494009967985\n",
      "number of features:  30  ks:  0.2488029976264774\n",
      "number of features:  40  ks:  0.25229902368301627\n",
      "number of features:  50  ks:  0.2674859536460279\n",
      "number of features:  60  ks:  0.27773547472459514\n",
      "number of features:  70  ks:  0.23407069161475846\n",
      "number of features:  80  ks:  0.18436246219833974\n",
      "number of features:  90  ks:  0.18601629738510905\n",
      "number of features:  100  ks:  0.20950814668449813\n",
      "number of features:  110  ks:  0.2050068876331843\n",
      "number of features:  120  ks:  0.19238063109194092\n",
      "number of features:  130  ks:  0.17563866231320058\n",
      "number of features:  140  ks:  0.19202841801306847\n",
      "number of features:  150  ks:  0.2018562472640233\n",
      "number of features:  160  ks:  0.24072739832206813\n",
      "number of features:  170  ks:  0.21666847391735644\n",
      "number of features:  180  ks:  0.17245950754426764\n",
      "number of features:  190  ks:  0.23594782266453018\n",
      "number of features:  200  ks:  0.19739635417294188\n",
      "number of features:  210  ks:  0.21602348622674172\n",
      "number of features:  220  ks:  0.238402872323763\n",
      "number of features:  230  ks:  0.21110736273931008\n",
      "number of features:  240  ks:  0.22521395840110525\n",
      "number of features:  250  ks:  0.20496391522789437\n",
      "number of features:  260  ks:  0.2077615392956541\n",
      "number of features:  270  ks:  0.2161431663835307\n",
      "number of features:  280  ks:  0.20988365321670543\n",
      "number of features:  290  ks:  0.2128194315594164\n",
      "number of features:  300  ks:  0.22791840865552593\n",
      "number of features:  310  ks:  0.21973116141961546\n",
      "number of features:  320  ks:  0.20446993337269126\n",
      "number of features:  330  ks:  0.23130680289320749\n",
      "number of features:  340  ks:  0.2151146399354209\n"
     ]
    }
   ],
   "source": [
    "y= df_train['TARGET']\n",
    "ks_list = []\n",
    "for n_features in range(10,350,10):\n",
    "    features = df_ranks.head(n_features)['Features'].values\n",
    "    X = df_train_feat[features]\n",
    "    y = df_train_feat['TARGET']\n",
    "    trainX = X[y==0]\n",
    "    oc_clf = IsolationForest(random_state=42)\n",
    "    oc_clf.fit(trainX)\n",
    "    X_test = df_test_feat[features]\n",
    "    df_test_feat['score'] = oc_clf.score_samples(X_test)\n",
    "    from scipy.stats import ks_2samp\n",
    "    yhat = df_test_feat['score']\n",
    "    y = df_test_feat['TARGET']\n",
    "    def ks_stat(y, yhat):\n",
    "        return ks_2samp(yhat[y==1], yhat[y!=1]).statistic\n",
    "    ks = ks_stat(y, yhat)\n",
    "    print('number of features: ', n_features, ' ks: ', ks)\n",
    "    ks_list.append(ks)"
   ]
  },
  {
   "cell_type": "code",
   "execution_count": 7,
   "id": "34c28c3f-d6ad-45da-9213-c0bc9b2b830c",
   "metadata": {},
   "outputs": [
    {
     "data": {
      "image/png": "[encoded data removed]",
      "text/plain": [
       "<Figure size 432x288 with 1 Axes>"
      ]
     },
     "metadata": {
      "needs_background": "light"
     },
     "output_type": "display_data"
    }
   ],
   "source": [
    "from matplotlib import pyplot as plt\n",
    "perf_rank_if = pd.DataFrame(ks_list, list(range(10,350,10))).reset_index(drop=False)\n",
    "perf_rank_if.columns = ['n_features','ks']\n",
    "ax = perf_rank_if.plot.line(x='n_features', y='ks', rot=0)\n",
    "\n",
    "plt.title(\"Performance x Num. Features - Isolation Forest\")\n",
    "plt.legend()\n",
    "ax.set_ylim(ymin=0)\n",
    "plt.savefig('../reports/figures/perfxnfeatures_if.png', bbox_inches='tight', dpi=plt.gcf().dpi)"
   ]
  },
  {
   "cell_type": "code",
   "execution_count": 8,
   "id": "7554e34a-395e-489f-9b15-2921f46d6013",
   "metadata": {},
   "outputs": [
    {
     "data": {
      "text/plain": [
       "n_features    60.000000\n",
       "ks             0.277735\n",
       "Name: 5, dtype: float64"
      ]
     },
     "execution_count": 8,
     "metadata": {},
     "output_type": "execute_result"
    }
   ],
   "source": [
    "perf_rank_if.iloc[perf_rank_if['ks'].idxmax()]"
   ]
  },
  {
   "cell_type": "markdown",
   "id": "93e831d3-3c37-4f8d-ae33-f96f9e76693c",
   "metadata": {},
   "source": [
    "## OCSVM - Features Analysis"
   ]
  },
  {
   "cell_type": "code",
   "execution_count": 16,
   "id": "64368518-9403-46d4-87ca-a102bae26e49",
   "metadata": {},
   "outputs": [],
   "source": [
    "from sklearn.preprocessing import StandardScaler\n",
    "\n",
    "X = df_train_feat.drop(['TARGET','ID'], axis=1)\n",
    "scaler = StandardScaler()\n",
    "X = scaler.fit_transform(X)\n",
    "X_scaled = pd.DataFrame(X, columns= list(df_train_feat.drop(['TARGET','ID'], axis=1).columns))\n",
    "X_scaled = X_scaled.set_index(df_train_feat.index)"
   ]
  },
  {
   "cell_type": "code",
   "execution_count": 17,
   "id": "93053403-2332-4253-bb26-12cac573a367",
   "metadata": {},
   "outputs": [
    {
     "name": "stdout",
     "output_type": "stream",
     "text": [
      "number of features:  10  ks:  0.18078089294248523\n",
      "number of features:  20  ks:  0.18699181114631902\n",
      "number of features:  30  ks:  0.17953268513275256\n",
      "number of features:  40  ks:  0.17614268445001346\n",
      "number of features:  50  ks:  0.1379615015441953\n",
      "number of features:  60  ks:  0.19939838632593965\n",
      "number of features:  70  ks:  0.1944674032217255\n",
      "number of features:  80  ks:  0.16800162250950823\n",
      "number of features:  90  ks:  0.12862765414844357\n",
      "number of features:  100  ks:  0.10444423025177008\n",
      "number of features:  110  ks:  0.18046482487740811\n",
      "number of features:  120  ks:  0.1475266770282373\n",
      "number of features:  130  ks:  0.1614915039137017\n",
      "number of features:  140  ks:  0.16418069294007565\n",
      "number of features:  150  ks:  0.09245091306320963\n",
      "number of features:  160  ks:  0.2140198476286863\n",
      "number of features:  170  ks:  0.1437334586360478\n",
      "number of features:  180  ks:  0.14067800013654785\n",
      "number of features:  190  ks:  0.09471921348449985\n",
      "number of features:  200  ks:  0.13980851174913755\n",
      "number of features:  210  ks:  0.1886874139045851\n",
      "number of features:  220  ks:  0.14999257019160872\n",
      "number of features:  230  ks:  0.19022518343594497\n",
      "number of features:  240  ks:  0.09570597236111278\n",
      "number of features:  250  ks:  0.21184110651935562\n",
      "number of features:  260  ks:  0.20629887107073575\n",
      "number of features:  270  ks:  0.07040325787057675\n",
      "number of features:  280  ks:  0.19875902119302635\n",
      "number of features:  290  ks:  0.18644240693662972\n",
      "number of features:  300  ks:  0.19397181492146487\n",
      "number of features:  310  ks:  0.16936669919717906\n",
      "number of features:  320  ks:  0.19117419085370502\n",
      "number of features:  330  ks:  0.07417719892207536\n",
      "number of features:  340  ks:  0.18183873701289566\n"
     ]
    }
   ],
   "source": [
    "y= df_train['TARGET']\n",
    "ks_list = []\n",
    "best_ocsvmparams = {'kernel': 'linear', 'degree': 77, 'gamma': 'scale', 'tol': 0.23960392536570452, 'shrinking': True}\n",
    "scaler = StandardScaler()\n",
    "for n_features in range(10,350,10):\n",
    "    features = df_ranks.head(n_features)['Features'].values\n",
    "    X = X_scaled[features]\n",
    "    y = df_train_feat['TARGET']\n",
    "    trainX = X[y==0]\n",
    "    oc_clf = OneClassSVM(**best_ocsvmparams)\n",
    "    oc_clf.fit(trainX)\n",
    "    X_test = df_test_feat[features]\n",
    "    df_test_feat['score'] = oc_clf.score_samples(X_test)\n",
    "    from scipy.stats import ks_2samp\n",
    "    yhat = df_test_feat['score']\n",
    "    y = df_test_feat['TARGET']\n",
    "    def ks_stat(y, yhat):\n",
    "        return ks_2samp(yhat[y==1], yhat[y!=1]).statistic\n",
    "    ks = ks_stat(y, yhat)\n",
    "    print('number of features: ', n_features, ' ks: ', ks)\n",
    "    ks_list.append(ks)"
   ]
  },
  {
   "cell_type": "code",
   "execution_count": 24,
   "id": "a0cfe616-a930-4eb0-a799-446992eb8ba7",
   "metadata": {},
   "outputs": [
    {
     "data": {
      "image/png": "[encoded data removed]",
      "text/plain": [
       "<Figure size 432x288 with 1 Axes>"
      ]
     },
     "metadata": {
      "needs_background": "light"
     },
     "output_type": "display_data"
    }
   ],
   "source": [
    "from matplotlib import pyplot as plt\n",
    "perf_rank_if = pd.DataFrame(ks_list, list(range(10,350,10))).reset_index(drop=False)\n",
    "perf_rank_if.columns = ['n_features','ks']\n",
    "ax = perf_rank_if.plot.line(x='n_features', y='ks', rot=0)\n",
    "\n",
    "plt.title(\"Performance x Num. Features - OCSVM\")\n",
    "plt.legend()\n",
    "ax.set_ylim(ymin=0)\n",
    "plt.savefig('../reports/figures/perfxnfeatures_ocsvm.png', bbox_inches='tight', dpi=plt.gcf().dpi)"
   ]
  },
  {
   "cell_type": "code",
   "execution_count": 23,
   "id": "dde193d5-f12c-4046-bb29-0ff18c6fb49d",
   "metadata": {},
   "outputs": [
    {
     "data": {
      "text/plain": [
       "n_features    160.00000\n",
       "ks              0.21402\n",
       "Name: 15, dtype: float64"
      ]
     },
     "execution_count": 23,
     "metadata": {},
     "output_type": "execute_result"
    }
   ],
   "source": [
    "perf_rank_if.iloc[perf_rank_if['ks'].idxmax()]"
   ]
  },
  {
   "cell_type": "markdown",
   "id": "77adbfc3-629c-4cd2-a8ee-43e39b6fcf6e",
   "metadata": {},
   "source": [
    "## Random forest - Features Analysis"
   ]
  },
  {
   "cell_type": "code",
   "execution_count": 12,
   "id": "b4a934fd-2891-48d2-82e3-2423fcdfc408",
   "metadata": {},
   "outputs": [],
   "source": [
    "X = df_train_feat.drop(['TARGET','ID'], axis=1)\n",
    "y = df_train_feat['TARGET']\n",
    "oversample = SMOTE()\n",
    "X_smote, y_smote = oversample.fit_resample(X, y)\n",
    "# summarize the new class distribution\n",
    "best_rf_params = {'n_estimators': 928, 'max_depth': 9, 'criterion': 'entropy', 'max_features': 'sqrt', 'min_samples_split': 6, 'min_samples_leaf': 8, 'bootstrap': False}\n",
    "clf_rf= sklearn.ensemble.RandomForestClassifier(**best_rf_params,verbose=0,n_jobs =-1).fit(X_smote, y_smote)"
   ]
  },
  {
   "cell_type": "code",
   "execution_count": 13,
   "id": "5d93a38f-4b1c-4e09-83e8-c6b0782b382d",
   "metadata": {},
   "outputs": [
    {
     "name": "stdout",
     "output_type": "stream",
     "text": [
      "number of features:  10  ks:  0.4134146194532464\n",
      "number of features:  20  ks:  0.41815363237308084\n",
      "number of features:  30  ks:  0.4294662184684956\n",
      "number of features:  40  ks:  0.42431957011530264\n",
      "number of features:  50  ks:  0.4911533070679567\n",
      "number of features:  60  ks:  0.48757615553601047\n",
      "number of features:  70  ks:  0.4898625284641983\n",
      "number of features:  80  ks:  0.47945396932493156\n",
      "number of features:  90  ks:  0.4797483503817315\n",
      "number of features:  100  ks:  0.4756153688598658\n",
      "number of features:  110  ks:  0.4752438784403025\n",
      "number of features:  120  ks:  0.4698313634300815\n",
      "number of features:  130  ks:  0.4747201773515344\n",
      "number of features:  140  ks:  0.4525865773483214\n",
      "number of features:  150  ks:  0.45026566585139577\n",
      "number of features:  160  ks:  0.45430266228107163\n",
      "number of features:  170  ks:  0.4539207299686341\n",
      "number of features:  180  ks:  0.4513612613806592\n",
      "number of features:  190  ks:  0.4478254758089455\n",
      "number of features:  200  ks:  0.4476567990779005\n",
      "number of features:  210  ks:  0.4499206817752824\n",
      "number of features:  220  ks:  0.44832387538805685\n",
      "number of features:  230  ks:  0.45116848797375064\n",
      "number of features:  240  ks:  0.4509231034912067\n",
      "number of features:  250  ks:  0.446355578581268\n",
      "number of features:  260  ks:  0.44421258087446835\n",
      "number of features:  270  ks:  0.4422719952449226\n",
      "number of features:  280  ks:  0.445659184648811\n",
      "number of features:  290  ks:  0.44871102864693146\n",
      "number of features:  300  ks:  0.43796712410189675\n",
      "number of features:  310  ks:  0.43948963240520966\n",
      "number of features:  320  ks:  0.44367522500271084\n",
      "number of features:  330  ks:  0.4415599384731543\n",
      "number of features:  340  ks:  0.4405281991349293\n"
     ]
    }
   ],
   "source": [
    "y= df_train['TARGET']\n",
    "ks_list = []\n",
    "best_rf_params = {'n_estimators': 928, 'max_depth': 9, 'criterion': 'entropy', 'max_features': 'sqrt', 'min_samples_split': 6, 'min_samples_leaf': 8, 'bootstrap': False}\n",
    "scaler = StandardScaler()\n",
    "for n_features in range(10,350,10):\n",
    "    features = df_ranks.head(n_features)['Features'].values\n",
    "    X = X_smote[features]\n",
    "    clf = sklearn.ensemble.RandomForestClassifier(**best_rf_params,verbose=0,n_jobs =-1).fit(X, y_smote)\n",
    "    X_test = df_test_feat[features]\n",
    "    df_test_feat['score'] = clf.predict_proba(X_test)\n",
    "    from scipy.stats import ks_2samp\n",
    "    yhat = df_test_feat['score']\n",
    "    y = df_test_feat['TARGET']\n",
    "    def ks_stat(y, yhat):\n",
    "        return ks_2samp(yhat[y==1], yhat[y!=1]).statistic\n",
    "    ks = ks_stat(y, yhat)\n",
    "    print('number of features: ', n_features, ' ks: ', ks)\n",
    "    ks_list.append(ks)"
   ]
  },
  {
   "cell_type": "code",
   "execution_count": 14,
   "id": "e5ce3ba7-1ead-494f-a4b9-54bf205552c9",
   "metadata": {},
   "outputs": [
    {
     "data": {
      "image/png": "[encoded data removed]",
      "text/plain": [
       "<Figure size 432x288 with 1 Axes>"
      ]
     },
     "metadata": {
      "needs_background": "light"
     },
     "output_type": "display_data"
    }
   ],
   "source": [
    "from matplotlib import pyplot as plt\n",
    "perf_rank_if = pd.DataFrame(ks_list, list(range(10,350,10))).reset_index(drop=False)\n",
    "perf_rank_if.columns = ['n_features','ks']\n",
    "ax = perf_rank_if.plot.line(x='n_features', y='ks', rot=0)\n",
    "\n",
    "plt.title(\"Performance x Num. Features - Random Forest\")\n",
    "plt.legend()\n",
    "ax.set_ylim(ymin=0)\n",
    "plt.savefig('../reports/figures/perfxnfeatures_rf.png', bbox_inches='tight', dpi=plt.gcf().dpi)"
   ]
  },
  {
   "cell_type": "code",
   "execution_count": 15,
   "id": "404d4acb-2373-490a-acc0-a8deac902d66",
   "metadata": {},
   "outputs": [
    {
     "data": {
      "text/plain": [
       "n_features    50.000000\n",
       "ks             0.491153\n",
       "Name: 4, dtype: float64"
      ]
     },
     "execution_count": 15,
     "metadata": {},
     "output_type": "execute_result"
    }
   ],
   "source": [
    "perf_rank_if.iloc[perf_rank_if['ks'].idxmax()]"
   ]
  },
  {
   "cell_type": "code",
   "execution_count": null,
   "id": "bec0b461-91fd-478e-b5e3-a8205f05dc01",
   "metadata": {},
   "outputs": [],
   "source": []
  }
 ],
 "metadata": {
  "kernelspec": {
   "display_name": "Python 3 (ipykernel)",
   "language": "python",
   "name": "python3"
  },
  "language_info": {
   "codemirror_mode": {
    "name": "ipython",
    "version": 3
   },
   "file_extension": ".py",
   "mimetype": "text/x-python",
   "name": "python",
   "nbconvert_exporter": "python",
   "pygments_lexer": "ipython3",
   "version": "3.8.10"
  }
 },
 "nbformat": 4,
 "nbformat_minor": 5
}
